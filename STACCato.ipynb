{
 "cells": [
  {
   "cell_type": "code",
   "execution_count": 1,
   "metadata": {
    "vscode": {
     "languageId": "r"
    }
   },
   "outputs": [
    {
     "name": "stdout",
     "output_type": "stream",
     "text": [
      "[1] \"Hello from R in VS Code/Cursor via IRkernel!\"\n"
     ]
    },
    {
     "data": {
      "text/plain": [
       "R version 4.2.2 (2022-10-31)\n",
       "Platform: x86_64-pc-linux-gnu (64-bit)\n",
       "Running under: Rocky Linux 8.10 (Green Obsidian)\n",
       "\n",
       "Matrix products: default\n",
       "BLAS:   /apps/R/4.2.2/lib64/R/lib/libRblas.so\n",
       "LAPACK: /apps/R/4.2.2/lib64/R/lib/libRlapack.so\n",
       "\n",
       "locale:\n",
       " [1] LC_CTYPE=en_US.UTF-8       LC_NUMERIC=C              \n",
       " [3] LC_TIME=en_US.UTF-8        LC_COLLATE=en_US.UTF-8    \n",
       " [5] LC_MONETARY=en_US.UTF-8    LC_MESSAGES=en_US.UTF-8   \n",
       " [7] LC_PAPER=en_US.UTF-8       LC_NAME=C                 \n",
       " [9] LC_ADDRESS=C               LC_TELEPHONE=C            \n",
       "[11] LC_MEASUREMENT=en_US.UTF-8 LC_IDENTIFICATION=C       \n",
       "\n",
       "attached base packages:\n",
       "[1] stats     graphics  grDevices datasets  utils     methods   base     \n",
       "\n",
       "loaded via a namespace (and not attached):\n",
       " [1] fansi_1.0.3     crayon_1.5.2    utf8_1.2.2      digest_0.6.31  \n",
       " [5] IRdisplay_1.1   repr_1.1.7      lifecycle_1.0.3 jsonlite_1.8.4 \n",
       " [9] evaluate_0.20   pillar_1.8.1    rlang_1.1.6     cli_3.6.0      \n",
       "[13] renv_1.1.4      uuid_1.2-1      vctrs_0.6.5     IRkernel_1.3.2 \n",
       "[17] tools_4.2.2     glue_1.6.2      yaml_2.3.6      fastmap_1.1.0  \n",
       "[21] compiler_4.2.2  base64enc_0.1-3 pbdZMQ_0.3-14   htmltools_0.5.4"
      ]
     },
     "metadata": {},
     "output_type": "display_data"
    }
   ],
   "source": [
    "print(\"Hello from R in VS Code/Cursor via IRkernel!\")\n",
    "sessionInfo() # 检查 R 版本和加载的包"
   ]
  },
  {
   "cell_type": "code",
   "execution_count": 2,
   "metadata": {
    "vscode": {
     "languageId": "r"
    }
   },
   "outputs": [
    {
     "name": "stderr",
     "output_type": "stream",
     "text": [
      "R.matlab v3.7.0 (2022-08-25 21:52:34 UTC) successfully loaded. See ?R.matlab for help.\n",
      "\n",
      "\n",
      "Attaching package: ‘R.matlab’\n",
      "\n",
      "\n",
      "The following objects are masked from ‘package:base’:\n",
      "\n",
      "    getOption, isOpen\n",
      "\n",
      "\n",
      "\n",
      "Attaching package: ‘dplyr’\n",
      "\n",
      "\n",
      "The following objects are masked from ‘package:stats’:\n",
      "\n",
      "    filter, lag\n",
      "\n",
      "\n",
      "The following objects are masked from ‘package:base’:\n",
      "\n",
      "    intersect, setdiff, setequal, union\n",
      "\n",
      "\n",
      "\n",
      "Attaching package: ‘gridExtra’\n",
      "\n",
      "\n",
      "The following object is masked from ‘package:dplyr’:\n",
      "\n",
      "    combine\n",
      "\n",
      "\n"
     ]
    }
   ],
   "source": [
    "data.dir = '/projects/compbio/users/rche384/APE/Data/RDA/ASD/LIANA_expr_prod'\n",
    "set.seed(2018)\n",
    "library(tensorregress)\n",
    "library(R.matlab)\n",
    "library(ggplot2)\n",
    "library(dplyr)\n",
    "library(parallel)\n",
    "library(reticulate)\n",
    "library(reshape2)\n",
    "library(gridExtra)"
   ]
  },
  {
   "cell_type": "code",
   "execution_count": null,
   "metadata": {
    "vscode": {
     "languageId": "r"
    }
   },
   "outputs": [],
   "source": [
    "# read in covariates data\n",
    "cov.mat <- read.table(file.path(data.dir, 'subjects_info.txt'),\n",
    "                      header = T, sep = '\\t') %>% as.data.frame() %>%\n",
    "  mutate(sex_M = ifelse(sex == 'M', 1, 0),\n",
    "         Seqbatch_SB1 = ifelse(Seqbatch == 'SB1', 1, 0),\n",
    "         age = scale(age)[,1],\n",
    "         diagnosis_ASD = ifelse(diagnosis == 'ASD', 1, 0))"
   ]
  },
  {
   "cell_type": "code",
   "execution_count": 4,
   "metadata": {
    "vscode": {
     "languageId": "r"
    }
   },
   "outputs": [],
   "source": [
    "# create design matrix\n",
    "cov.ind <- as.matrix(cbind('intercept' = rep(1, nrow(cov.mat)),\n",
    "                           cov.mat[, c('age', 'sex_M',\n",
    "                                       'Seqbatch_SB1',\n",
    "                                       'diagnosis_ASD')]))\n",
    "cov.names = colnames(cov.ind)"
   ]
  },
  {
   "cell_type": "code",
   "execution_count": 5,
   "metadata": {
    "vscode": {
     "languageId": "r"
    }
   },
   "outputs": [],
   "source": [
    "mat <- readMat(file.path(data.dir, 'c2ctensor.mat'))\n",
    "c2ctensor <- as.tensor(mat$c2ctensor)"
   ]
  },
  {
   "cell_type": "code",
   "execution_count": 6,
   "metadata": {
    "vscode": {
     "languageId": "r"
    }
   },
   "outputs": [
    {
     "data": {
      "text/html": [
       "<style>\n",
       ".list-inline {list-style: none; margin:0; padding: 0}\n",
       ".list-inline>li {display: inline-block}\n",
       ".list-inline>li:not(:last-child)::after {content: \"\\00b7\"; padding: 0 .5ex}\n",
       "</style>\n",
       "<ol class=list-inline><li>23</li><li>2555</li><li>17</li><li>17</li></ol>\n"
      ],
      "text/latex": [
       "\\begin{enumerate*}\n",
       "\\item 23\n",
       "\\item 2555\n",
       "\\item 17\n",
       "\\item 17\n",
       "\\end{enumerate*}\n"
      ],
      "text/markdown": [
       "1. 23\n",
       "2. 2555\n",
       "3. 17\n",
       "4. 17\n",
       "\n",
       "\n"
      ],
      "text/plain": [
       "[1]   23 2555   17   17"
      ]
     },
     "metadata": {},
     "output_type": "display_data"
    }
   ],
   "source": [
    "dim(c2ctensor@data)"
   ]
  },
  {
   "cell_type": "code",
   "execution_count": 7,
   "metadata": {
    "vscode": {
     "languageId": "r"
    }
   },
   "outputs": [
    {
     "data": {
      "text/html": [
       "0.019256807582368"
      ],
      "text/latex": [
       "0.019256807582368"
      ],
      "text/markdown": [
       "0.019256807582368"
      ],
      "text/plain": [
       "[1] 0.01925681"
      ]
     },
     "metadata": {},
     "output_type": "display_data"
    }
   ],
   "source": [
    "1 - mean(c2ctensor@data != 0)"
   ]
  },
  {
   "cell_type": "code",
   "execution_count": 8,
   "metadata": {
    "vscode": {
     "languageId": "r"
    }
   },
   "outputs": [],
   "source": [
    "lrs = read.table(file.path(data.dir, \"lr.txt\"),\n",
    "                 header = F,\n",
    "                 sep = '\\t') %>% unlist()\n",
    "senders = read.table(file.path(data.dir, \"sender.txt\"),\n",
    "                     header = F,\n",
    "                     sep = '\\t')  %>% unlist()\n",
    "receivers = read.table(file.path(data.dir, \"receiver.txt\"),\n",
    "                       header = F,\n",
    "                       sep = '\\t')  %>% unlist()"
   ]
  },
  {
   "cell_type": "code",
   "execution_count": 11,
   "metadata": {
    "vscode": {
     "languageId": "r"
    }
   },
   "outputs": [],
   "source": [
    "source('/projects/compbio/users/rche384/APE/R/dcomp.R')"
   ]
  },
  {
   "cell_type": "code",
   "execution_count": 12,
   "metadata": {
    "vscode": {
     "languageId": "r"
    }
   },
   "outputs": [
    {
     "data": {
      "image/png": "[encoded data removed]",
      "text/plain": [
       "plot without title"
      ]
     },
     "metadata": {
      "image/png": {
       "height": 420,
       "width": 420
      }
     },
     "output_type": "display_data"
    },
    {
     "data": {
      "image/png": "[encoded data removed]",
      "text/plain": [
       "plot without title"
      ]
     },
     "metadata": {
      "image/png": {
       "height": 420,
       "width": 420
      }
     },
     "output_type": "display_data"
    },
    {
     "data": {
      "image/png": "[encoded data removed]",
      "text/plain": [
       "plot without title"
      ]
     },
     "metadata": {
      "image/png": {
       "height": 420,
       "width": 420
      }
     },
     "output_type": "display_data"
    }
   ],
   "source": [
    "# Determine the number of components for sender cell type\n",
    "r2 = cal_eigen_varexp(c2ctensor, 2, c(1,3,4), varexp = 1)\n",
    "# Determine the number of components for receiver cell type\n",
    "r3 = cal_eigen_varexp(c2ctensor, 3, c(1,2,4), varexp = 1)\n",
    "# Determine the number of components for ligand-receptor pair\n",
    "r4 = cal_eigen_varexp(c2ctensor, 4, c(1,2,3), varexp = 1)\n",
    "\n",
    "plot(r2$p)\n",
    "\n",
    "plot(r3$p)\n",
    "\n",
    "plot(r4$p)"
   ]
  },
  {
   "cell_type": "code",
   "execution_count": 13,
   "metadata": {
    "vscode": {
     "languageId": "r"
    }
   },
   "outputs": [
    {
     "name": "stdout",
     "output_type": "stream",
     "text": [
      "  |======================================================================| 100%\n",
      "  |======================================================================| 100%\n"
     ]
    }
   ],
   "source": [
    "# decomposition rank\n",
    "r = c(ncol(cov.ind), r2$rank, r3$rank, r4$rank)\n",
    "# staccato\n",
    "staccato_all_cov = staccato(tsr=c2ctensor,\n",
    "                            X_covar1=cov.ind,\n",
    "                            lr.names = lrs,\n",
    "                            sender.names = senders,\n",
    "                            receiver.names = receivers,\n",
    "                            core_shape = r)"
   ]
  },
  {
   "cell_type": "code",
   "execution_count": 16,
   "metadata": {
    "vscode": {
     "languageId": "r"
    }
   },
   "outputs": [],
   "source": [
    "disease_eff = get_full_effect(staccato_all_cov$C_ts,\n",
    "                              var = 'diagnosis_ASD',\n",
    "                              val = 'effect')\n",
    "\n",
    "select_pattern = disease_eff %>%\n",
    "  mutate(Pattern = paste(LR, Sender, Receiver, sep = ' - ')) %>%\n",
    "  arrange(desc(abs(effect))) %>%\n",
    "  slice(1:1000) %>%\n",
    "  dplyr::select(Pattern) %>%\n",
    "  unlist(.) %>% as.character(.)\n",
    "\n",
    "disease_eff_top = disease_eff %>%\n",
    "  mutate(Pattern = paste(LR, Sender, Receiver, sep = ' - ')) %>%\n",
    "  filter(Pattern %in% select_pattern)\n",
    "\n",
    "# top_cells = unique(disease_eff_pval$Sender)[8:17]\n",
    "\n",
    "disease_eff_top$panel <- ifelse(disease_eff_top$Receiver %in% c(\"AST-FB\", \"AST-PP\", \"Endothelial\",\n",
    "                                                                \"IN-PV\", \"IN-SST\", \"IN-SV2C\", \"IN-VIP\"),\n",
    "                                \"Panel 1\", \"Panel 2\")\n",
    "\n",
    "max = max(abs(disease_eff_top$effect))\n",
    "\n",
    "p_compare_receiver_selected = ggplot(disease_eff_top %>%\n",
    "                                       mutate(Receiver = paste('Receiver:', Receiver)),\n",
    "                                     aes(Sender, LR)) +    # Create default ggplot2 heatmap\n",
    "  geom_tile(aes(fill = effect)) +\n",
    "  scale_fill_gradient2(name = 'Disease Effect',\n",
    "                       limits = c(-1 * max, max),\n",
    "                       low = \"blue\",\n",
    "                       mid = \"white\",\n",
    "                       high = \"red\",\n",
    "                       guide = guide_colorbar(barwidth = 30)) +\n",
    "  theme_linedraw() +\n",
    "  theme(text = element_text(size = 20, face = 'bold'),\n",
    "        axis.text.x = element_text(angle=90,vjust = 1, hjust=1),\n",
    "        legend.position = 'top',\n",
    "        legend.text = element_text(size = 16),\n",
    "        strip.background = element_rect(fill = \"white\"),\n",
    "        strip.text = element_text(color = 'black')) +\n",
    "  facet_wrap(~Receiver, ncol = 6) +\n",
    "  xlab('Sender Cell Types') +\n",
    "  ylab('Ligand - Receptor Pairs')\n",
    "\n",
    "# 保存图片并设置尺寸\n",
    "ggsave(\"disease_effect_heatmap.png\",  # 指定保存的文件名\n",
    "       plot = p_compare_receiver_selected, # 指定要保存的 ggplot2 对象\n",
    "       width = 26,         # 设置宽度，单位为英寸\n",
    "       height = 28)        # 设置高度，单位为英寸\n"
   ]
  },
  {
   "cell_type": "code",
   "execution_count": 17,
   "metadata": {
    "vscode": {
     "languageId": "r"
    }
   },
   "outputs": [],
   "source": [
    "# bootstrap\n",
    "n_boot = 20\n",
    "n_thread = 5\n",
    "P = boot_p(n_boot = n_boot,\n",
    "           dcomp_res = staccato_all_cov,\n",
    "           n_thread = n_thread,\n",
    "           lr.names = lrs,\n",
    "           sender.names = senders,\n",
    "           receiver.names = receivers)"
   ]
  },
  {
   "cell_type": "code",
   "execution_count": 18,
   "metadata": {
    "vscode": {
     "languageId": "r"
    }
   },
   "outputs": [
    {
     "data": {
      "text/html": [
       "<table class=\"dataframe\">\n",
       "<caption>A data.frame: 6 × 4</caption>\n",
       "<thead>\n",
       "\t<tr><th></th><th scope=col>Sender</th><th scope=col>Receiver</th><th scope=col>LR</th><th scope=col>pval</th></tr>\n",
       "\t<tr><th></th><th scope=col>&lt;chr&gt;</th><th scope=col>&lt;chr&gt;</th><th scope=col>&lt;fct&gt;</th><th scope=col>&lt;dbl&gt;</th></tr>\n",
       "</thead>\n",
       "<tbody>\n",
       "\t<tr><th scope=row>1</th><td>AST-FB</td><td>AST-FB</td><td>A2M^LRP1    </td><td>0.04761905</td></tr>\n",
       "\t<tr><th scope=row>2</th><td>AST-FB</td><td>AST-FB</td><td>ACTR2^LDLR  </td><td>0.52380952</td></tr>\n",
       "\t<tr><th scope=row>3</th><td>AST-FB</td><td>AST-FB</td><td>ACTR2^LRP2  </td><td>0.04761905</td></tr>\n",
       "\t<tr><th scope=row>4</th><td>AST-FB</td><td>AST-FB</td><td>ADAM10^AXL  </td><td>0.04761905</td></tr>\n",
       "\t<tr><th scope=row>5</th><td>AST-FB</td><td>AST-FB</td><td>ADAM10^CADM1</td><td>0.09523810</td></tr>\n",
       "\t<tr><th scope=row>6</th><td>AST-FB</td><td>AST-FB</td><td>ADAM10^CD44 </td><td>0.04761905</td></tr>\n",
       "</tbody>\n",
       "</table>\n"
      ],
      "text/latex": [
       "A data.frame: 6 × 4\n",
       "\\begin{tabular}{r|llll}\n",
       "  & Sender & Receiver & LR & pval\\\\\n",
       "  & <chr> & <chr> & <fct> & <dbl>\\\\\n",
       "\\hline\n",
       "\t1 & AST-FB & AST-FB & A2M\\textasciicircum{}LRP1     & 0.04761905\\\\\n",
       "\t2 & AST-FB & AST-FB & ACTR2\\textasciicircum{}LDLR   & 0.52380952\\\\\n",
       "\t3 & AST-FB & AST-FB & ACTR2\\textasciicircum{}LRP2   & 0.04761905\\\\\n",
       "\t4 & AST-FB & AST-FB & ADAM10\\textasciicircum{}AXL   & 0.04761905\\\\\n",
       "\t5 & AST-FB & AST-FB & ADAM10\\textasciicircum{}CADM1 & 0.09523810\\\\\n",
       "\t6 & AST-FB & AST-FB & ADAM10\\textasciicircum{}CD44  & 0.04761905\\\\\n",
       "\\end{tabular}\n"
      ],
      "text/markdown": [
       "\n",
       "A data.frame: 6 × 4\n",
       "\n",
       "| <!--/--> | Sender &lt;chr&gt; | Receiver &lt;chr&gt; | LR &lt;fct&gt; | pval &lt;dbl&gt; |\n",
       "|---|---|---|---|---|\n",
       "| 1 | AST-FB | AST-FB | A2M^LRP1     | 0.04761905 |\n",
       "| 2 | AST-FB | AST-FB | ACTR2^LDLR   | 0.52380952 |\n",
       "| 3 | AST-FB | AST-FB | ACTR2^LRP2   | 0.04761905 |\n",
       "| 4 | AST-FB | AST-FB | ADAM10^AXL   | 0.04761905 |\n",
       "| 5 | AST-FB | AST-FB | ADAM10^CADM1 | 0.09523810 |\n",
       "| 6 | AST-FB | AST-FB | ADAM10^CD44  | 0.04761905 |\n",
       "\n"
      ],
      "text/plain": [
       "  Sender Receiver LR           pval      \n",
       "1 AST-FB AST-FB   A2M^LRP1     0.04761905\n",
       "2 AST-FB AST-FB   ACTR2^LDLR   0.52380952\n",
       "3 AST-FB AST-FB   ACTR2^LRP2   0.04761905\n",
       "4 AST-FB AST-FB   ADAM10^AXL   0.04761905\n",
       "5 AST-FB AST-FB   ADAM10^CADM1 0.09523810\n",
       "6 AST-FB AST-FB   ADAM10^CD44  0.04761905"
      ]
     },
     "metadata": {},
     "output_type": "display_data"
    }
   ],
   "source": [
    "disease_pval = get_full_effect(P,\n",
    "                               var='diagnosis_ASD',\n",
    "                               val = 'pval')\n",
    "head(disease_pval)"
   ]
  }
 ],
 "metadata": {
  "kernelspec": {
   "display_name": "R (HPC)",
   "language": "R",
   "name": "ir"
  },
  "language_info": {
   "codemirror_mode": "r",
   "file_extension": ".r",
   "mimetype": "text/x-r-source",
   "name": "R",
   "pygments_lexer": "r",
   "version": "4.2.2"
  }
 },
 "nbformat": 4,
 "nbformat_minor": 2
}
