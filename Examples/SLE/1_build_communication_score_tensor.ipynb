{
 "cells": [
  {
   "cell_type": "markdown",
   "id": "ab71c5d6",
   "metadata": {},
   "source": [
    "Load modules"
   ]
  },
  {
   "cell_type": "code",
   "execution_count": 1,
   "id": "6dff3f61",
   "metadata": {},
   "outputs": [],
   "source": [
    "import pandas as pd\n",
    "import cell2cell as c2c\n",
    "import numpy as np\n",
    "\n",
    "import scipy\n",
    "import os"
   ]
  },
  {
   "cell_type": "markdown",
   "id": "17a18e5a",
   "metadata": {},
   "source": [
    "Directories"
   ]
  },
  {
   "cell_type": "code",
   "execution_count": 2,
   "id": "a2aa61ac",
   "metadata": {},
   "outputs": [],
   "source": [
    "wk_dir = '/home/qdai8/projects/Projects/STDCC/'\n",
    "data_folder = wk_dir + 'Data/RDA/SLE/'\n",
    "output_folder =  wk_dir + 'Results/'\n",
    "if not os.path.isdir(output_folder):\n",
    "    os.mkdir(output_folder)"
   ]
  },
  {
   "cell_type": "markdown",
   "id": "27ce1d1b",
   "metadata": {},
   "source": [
    "## 1.1 Load subject-level information "
   ]
  },
  {
   "cell_type": "code",
   "execution_count": 3,
   "id": "02299bf9",
   "metadata": {},
   "outputs": [],
   "source": [
    "subject_info = pd.read_csv(data_folder + 'subject_info.txt', sep='\\t')"
   ]
  },
  {
   "cell_type": "markdown",
   "id": "6963164e",
   "metadata": {},
   "source": [
    "check ancestry:"
   ]
  },
  {
   "cell_type": "code",
   "execution_count": 4,
   "id": "b361e0ee",
   "metadata": {},
   "outputs": [
    {
     "data": {
      "text/plain": [
       "European            149\n",
       "Asian               107\n",
       "African American      3\n",
       "Hispanic              2\n",
       "Name: pop_cov, dtype: int64"
      ]
     },
     "execution_count": 4,
     "metadata": {},
     "output_type": "execute_result"
    }
   ],
   "source": [
    "subject_info['pop_cov'].value_counts()"
   ]
  },
  {
   "cell_type": "markdown",
   "id": "5a7c0014",
   "metadata": {},
   "source": [
    "check processing batch by SLE status:"
   ]
  },
  {
   "cell_type": "code",
   "execution_count": 5,
   "id": "8b9b20b7",
   "metadata": {},
   "outputs": [
    {
     "data": {
      "text/plain": [
       "Processing_Cohort  SLE_status\n",
       "2.0                SLE           105\n",
       "4.0                Healthy        44\n",
       "1.0                Healthy        42\n",
       "4.0                SLE            40\n",
       "3.0                SLE            17\n",
       "                   Healthy         9\n",
       "2.0                Healthy         4\n",
       "dtype: int64"
      ]
     },
     "execution_count": 5,
     "metadata": {},
     "output_type": "execute_result"
    }
   ],
   "source": [
    "subject_info[['Processing_Cohort', 'SLE_status']].value_counts()"
   ]
  },
  {
   "cell_type": "markdown",
   "id": "571ee0cc",
   "metadata": {},
   "source": [
    "filter the 5 samples of African American or Hispanic history:"
   ]
  },
  {
   "cell_type": "code",
   "execution_count": 6,
   "id": "c162a436",
   "metadata": {},
   "outputs": [],
   "source": [
    "subject_info = subject_info[(subject_info.pop_cov.isin(['Asian', 'European']))]"
   ]
  },
  {
   "cell_type": "code",
   "execution_count": 7,
   "id": "a8df7a5d",
   "metadata": {},
   "outputs": [
    {
     "data": {
      "text/plain": [
       "European    149\n",
       "Asian       107\n",
       "Name: pop_cov, dtype: int64"
      ]
     },
     "execution_count": 7,
     "metadata": {},
     "output_type": "execute_result"
    }
   ],
   "source": [
    "subject_info['pop_cov'].value_counts()"
   ]
  },
  {
   "cell_type": "markdown",
   "id": "24baddc9",
   "metadata": {},
   "source": [
    "sort subjects by SLE status:"
   ]
  },
  {
   "cell_type": "code",
   "execution_count": 8,
   "id": "303501c5",
   "metadata": {},
   "outputs": [],
   "source": [
    "subject_info = subject_info.sort_values('SLE_status')"
   ]
  },
  {
   "cell_type": "markdown",
   "id": "67e0f9c0",
   "metadata": {},
   "source": [
    "## 1.2 cell-type-based expression matrices "
   ]
  },
  {
   "cell_type": "code",
   "execution_count": 9,
   "id": "f01d6b77",
   "metadata": {},
   "outputs": [],
   "source": [
    "exp_matrices = dict()\n",
    "for sample in subject_info.ind_cov.values:\n",
    "    exp_matrices[sample] = pd.read_csv(data_folder + 'CellnnFraction_Validation/{}.CellnnFraction.csv.gz'.format(sample), \n",
    "                                       index_col=0)"
   ]
  },
  {
   "cell_type": "markdown",
   "id": "5e55b1ef",
   "metadata": {},
   "source": [
    "check cell types across samples:"
   ]
  },
  {
   "cell_type": "code",
   "execution_count": 10,
   "id": "c73f9d3b",
   "metadata": {},
   "outputs": [],
   "source": [
    "cell_types = []\n",
    "for k, v in exp_matrices.items():\n",
    "    for cell_type in v.columns:\n",
    "        cell_types.append(cell_type)"
   ]
  },
  {
   "cell_type": "code",
   "execution_count": 11,
   "id": "559d27c6",
   "metadata": {},
   "outputs": [
    {
     "data": {
      "text/plain": [
       "Counter({'B': 254,\n",
       "         'NK': 256,\n",
       "         'PB': 198,\n",
       "         'Progen': 206,\n",
       "         'Prolif': 255,\n",
       "         'T4': 256,\n",
       "         'T8': 256,\n",
       "         'cDC': 254,\n",
       "         'cM': 256,\n",
       "         'ncM': 256,\n",
       "         'pDC': 254})"
      ]
     },
     "execution_count": 11,
     "metadata": {},
     "output_type": "execute_result"
    }
   ],
   "source": [
    "from collections import Counter\n",
    "Counter(cell_types)"
   ]
  },
  {
   "cell_type": "markdown",
   "id": "08d97cc7",
   "metadata": {},
   "source": [
    "reduced dataset to samples with 'B', 'NK', 'Prolif', 'T4', 'T8', 'cM', 'ncM', 'cDC', 'pDC' cell types"
   ]
  },
  {
   "cell_type": "code",
   "execution_count": 12,
   "id": "80519ae8",
   "metadata": {},
   "outputs": [],
   "source": [
    "filter_exp_matrices = []\n",
    "filter_samples = []\n",
    "select_cells = ['B', 'NK', 'Prolif', 'T4', 'T8', 'cM', 'ncM', 'cDC', 'pDC']\n",
    "\n",
    "for sample in subject_info.ind_cov.values:\n",
    "    v = exp_matrices[sample]\n",
    "    if all(item in v.columns for item in select_cells):\n",
    "        filter_exp_matrices.append(exp_matrices[sample].fillna(0))\n",
    "        filter_samples.append(sample)\n",
    "    else:\n",
    "        continue"
   ]
  },
  {
   "cell_type": "markdown",
   "id": "790200d1",
   "metadata": {},
   "source": [
    "remaining samples:"
   ]
  },
  {
   "cell_type": "code",
   "execution_count": 13,
   "id": "e93d1aed",
   "metadata": {},
   "outputs": [
    {
     "data": {
      "text/plain": [
       "251"
      ]
     },
     "execution_count": 13,
     "metadata": {},
     "output_type": "execute_result"
    }
   ],
   "source": [
    "len(filter_samples)"
   ]
  },
  {
   "cell_type": "markdown",
   "id": "1a651d49",
   "metadata": {},
   "source": [
    "subject-level information for remaing samples:"
   ]
  },
  {
   "cell_type": "code",
   "execution_count": 14,
   "id": "67de5e99",
   "metadata": {},
   "outputs": [],
   "source": [
    "filter_subject_info = subject_info.loc[subject_info['ind_cov'].isin(filter_samples)]"
   ]
  },
  {
   "cell_type": "code",
   "execution_count": 15,
   "id": "32df77f7",
   "metadata": {},
   "outputs": [
    {
     "data": {
      "text/plain": [
       "SLE        154\n",
       "Healthy     97\n",
       "Name: SLE_status, dtype: int64"
      ]
     },
     "execution_count": 15,
     "metadata": {},
     "output_type": "execute_result"
    }
   ],
   "source": [
    "filter_subject_info['SLE_status'].value_counts()"
   ]
  },
  {
   "cell_type": "code",
   "execution_count": 16,
   "id": "539f7edc",
   "metadata": {},
   "outputs": [
    {
     "data": {
      "text/plain": [
       "European    147\n",
       "Asian       104\n",
       "Name: pop_cov, dtype: int64"
      ]
     },
     "execution_count": 16,
     "metadata": {},
     "output_type": "execute_result"
    }
   ],
   "source": [
    "filter_subject_info['pop_cov'].value_counts()"
   ]
  },
  {
   "cell_type": "code",
   "execution_count": 17,
   "id": "db63e334",
   "metadata": {},
   "outputs": [],
   "source": [
    "filter_subject_info.to_csv(data_folder + 'filter_subject_info.txt',\n",
    "                            header = True,\n",
    "                            index = False,\n",
    "                            sep = '\\t',\n",
    "                            mode = 'w')"
   ]
  },
  {
   "cell_type": "code",
   "execution_count": 18,
   "id": "9c9eabc6",
   "metadata": {},
   "outputs": [
    {
     "data": {
      "text/plain": [
       "'/home/qdai8/projects/Projects/STDCC/Data/RDA/SLE/'"
      ]
     },
     "execution_count": 18,
     "metadata": {},
     "output_type": "execute_result"
    }
   ],
   "source": [
    "data_folder"
   ]
  },
  {
   "cell_type": "markdown",
   "id": "c297ea54",
   "metadata": {},
   "source": [
    "## Ligand-Receptor Pairs"
   ]
  },
  {
   "cell_type": "code",
   "execution_count": 19,
   "id": "f5354631",
   "metadata": {},
   "outputs": [],
   "source": [
    "lr_pairs = pd.read_csv('https://raw.githubusercontent.com/LewisLabUCSD/Ligand-Receptor-Pairs/master/Human/Human-2020-Jin-LR-pairs.csv')\n",
    "lr_pairs = lr_pairs.astype(str)"
   ]
  },
  {
   "cell_type": "code",
   "execution_count": 20,
   "id": "c19b37f2",
   "metadata": {},
   "outputs": [],
   "source": [
    "# interaction columns:\n",
    "int_columns = ('ligand_symbol', 'receptor_symbol')"
   ]
  },
  {
   "cell_type": "code",
   "execution_count": 21,
   "id": "9863f210",
   "metadata": {},
   "outputs": [
    {
     "name": "stdout",
     "output_type": "stream",
     "text": [
      "Removing bidirectionality of PPI network\n"
     ]
    }
   ],
   "source": [
    "lr_pairs = c2c.preprocessing.ppi.remove_ppi_bidirectionality(ppi_data=lr_pairs, \n",
    "                                                             interaction_columns=int_columns)"
   ]
  },
  {
   "cell_type": "code",
   "execution_count": 22,
   "id": "e373f298",
   "metadata": {},
   "outputs": [
    {
     "data": {
      "text/plain": [
       "(1988, 17)"
      ]
     },
     "execution_count": 22,
     "metadata": {},
     "output_type": "execute_result"
    }
   ],
   "source": [
    "lr_pairs.shape"
   ]
  },
  {
   "cell_type": "code",
   "execution_count": 23,
   "id": "427f1f5d",
   "metadata": {},
   "outputs": [],
   "source": [
    "ppi_functions = dict()\n",
    "\n",
    "for idx, row in lr_pairs.iterrows():\n",
    "    ppi_label = row[int_columns[0]] + '^' + row[int_columns[1]]\n",
    "    ppi_functions[ppi_label] = row['annotation']"
   ]
  },
  {
   "cell_type": "code",
   "execution_count": 24,
   "id": "c535dcc8",
   "metadata": {},
   "outputs": [],
   "source": [
    "ensembl_symbol = dict()\n",
    "\n",
    "for idx, row in lr_pairs.iterrows():\n",
    "    ensembl_symbol[row['interaction_ensembl']] = row['interaction_symbol']"
   ]
  },
  {
   "cell_type": "markdown",
   "id": "05f186c3",
   "metadata": {},
   "source": [
    "## Build Tensor"
   ]
  },
  {
   "cell_type": "markdown",
   "id": "b0bc802a",
   "metadata": {},
   "source": [
    "**Note here the order of samples in the tensor are the same as those in the sample meta data**"
   ]
  },
  {
   "cell_type": "code",
   "execution_count": 25,
   "id": "e3500865",
   "metadata": {},
   "outputs": [],
   "source": [
    "context_labels = filter_subject_info['ind_cov'].tolist()"
   ]
  },
  {
   "cell_type": "code",
   "execution_count": 26,
   "id": "e2167cff",
   "metadata": {},
   "outputs": [
    {
     "name": "stdout",
     "output_type": "stream",
     "text": [
      "Getting expression values for protein complexes\n",
      "Building tensor for the provided context\n"
     ]
    }
   ],
   "source": [
    "tensor = c2c.tensor.InteractionTensor(rnaseq_matrices=filter_exp_matrices,\n",
    "                                      ppi_data=lr_pairs,\n",
    "                                      context_names=context_labels,\n",
    "                                      how='inner',\n",
    "                                      complex_sep='&',\n",
    "                                      interaction_columns=('ligand_ensembl', 'receptor_ensembl'),\n",
    "                                      communication_score='expression_gmean')"
   ]
  },
  {
   "cell_type": "code",
   "execution_count": 27,
   "id": "2fd4818f",
   "metadata": {},
   "outputs": [
    {
     "data": {
      "text/plain": [
       "(251, 58, 9, 9)"
      ]
     },
     "execution_count": 27,
     "metadata": {},
     "output_type": "execute_result"
    }
   ],
   "source": [
    "tensor.tensor.shape"
   ]
  },
  {
   "cell_type": "code",
   "execution_count": 28,
   "id": "abd2d34d",
   "metadata": {},
   "outputs": [],
   "source": [
    "from scipy.io import savemat\n",
    "mymat={'c2ctensor':tensor.tensor}\n",
    "savemat(data_folder + \"c2ctensor_nnfraction_4d_val.mat\", mymat)"
   ]
  },
  {
   "cell_type": "markdown",
   "id": "abd58d62",
   "metadata": {},
   "source": [
    "## Save LR pair names and Cell Type names"
   ]
  },
  {
   "cell_type": "code",
   "execution_count": 29,
   "id": "0fab3d70",
   "metadata": {},
   "outputs": [],
   "source": [
    "tensor.order_names[1] = [ensembl_symbol[lr] for lr in tensor.order_names[1]]"
   ]
  },
  {
   "cell_type": "code",
   "execution_count": 30,
   "id": "55e82d16",
   "metadata": {},
   "outputs": [],
   "source": [
    "pd.DataFrame(tensor.order_names[1]).to_csv(data_folder + '/meta_lr_val.txt', \n",
    "                      mode='w',\n",
    "                      index=None,\n",
    "                      header=True,\n",
    "                      sep='\\t')"
   ]
  },
  {
   "cell_type": "code",
   "execution_count": 31,
   "id": "c0db4a03",
   "metadata": {},
   "outputs": [],
   "source": [
    "pd.DataFrame(tensor.order_names[2]).to_csv(data_folder + '/meta_sender_val.txt', \n",
    "                      mode='w',\n",
    "                      index=None,\n",
    "                      header=True,\n",
    "                      sep='\\t')"
   ]
  },
  {
   "cell_type": "code",
   "execution_count": 32,
   "id": "0723410d",
   "metadata": {},
   "outputs": [],
   "source": [
    "pd.DataFrame(tensor.order_names[3]).to_csv(data_folder + '/meta_receiver_val.txt', \n",
    "                      mode='w',\n",
    "                      index=None,\n",
    "                      header=True,\n",
    "                      sep='\\t')"
   ]
  }
 ],
 "metadata": {
  "kernelspec": {
   "display_name": "Python 3 (ipykernel)",
   "language": "python",
   "name": "python3"
  },
  "language_info": {
   "codemirror_mode": {
    "name": "ipython",
    "version": 3
   },
   "file_extension": ".py",
   "mimetype": "text/x-python",
   "name": "python",
   "nbconvert_exporter": "python",
   "pygments_lexer": "ipython3",
   "version": "3.7.13"
  }
 },
 "nbformat": 4,
 "nbformat_minor": 5
}
