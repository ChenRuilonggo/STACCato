{
 "cells": [
  {
   "cell_type": "code",
   "execution_count": 1,
   "metadata": {},
   "outputs": [],
   "source": [
    "import pandas as pd\n",
    "import scanpy as sc\n",
    "import anndata as ad\n",
    "from tqdm import tqdm\n",
    "import cell2cell as c2c\n",
    "import os\n",
    "from cell2cell.preprocessing import aggregate_single_cells "
   ]
  },
  {
   "cell_type": "code",
   "execution_count": 2,
   "metadata": {},
   "outputs": [
    {
     "name": "stdout",
     "output_type": "stream",
     "text": [
      "scanpy==1.9.1 anndata==0.8.0 umap==0.5.3 numpy==1.21.6 scipy==1.7.3 pandas==1.3.5 scikit-learn==1.0.2 statsmodels==0.13.2 pynndescent==0.5.7\n"
     ]
    }
   ],
   "source": [
    "# verbosity: errors (0), warnings (1), info (2), hints (3)\n",
    "sc.settings.verbosity = 3             \n",
    "sc.logging.print_header()\n",
    "sc.settings.set_figure_params(dpi=80, facecolor='white')"
   ]
  },
  {
   "cell_type": "markdown",
   "metadata": {},
   "source": [
    "## 1. ScRNA-seq Data Preprocessing"
   ]
  },
  {
   "cell_type": "markdown",
   "metadata": {},
   "source": [
    "### 1.1 Download Data\n",
    "```bash\n",
    "# download data (GSE174188) using the following bash commands:\n",
    "raw_data_dir=/home/qdai8/projects/Projects/STDCC/Data/RDA/SLE/raw\n",
    "mkdir -p ${raw_data_dir}\n",
    "cd ${raw_data_dir}\n",
    "wget https://ftp.ncbi.nlm.nih.gov/geo/series/GSE174nnn/GSE174188/suppl/GSE174188_CLUES1_adjusted.h5ad.gz\n",
    "# unzip \n",
    "gzip -d GSE174188_CLUES1_adjusted.h5ad.gz\n",
    "```"
   ]
  },
  {
   "cell_type": "markdown",
   "metadata": {},
   "source": [
    "### 1.2 Preprocessing"
   ]
  },
  {
   "cell_type": "code",
   "execution_count": 3,
   "metadata": {},
   "outputs": [],
   "source": [
    "# read in SLE data in h5ad \n",
    "# it needs ~25G memory and several minutes\n",
    "data_dir = '/home/qdai8/projects/Projects/STDCC/Data/RDA/SLE/'\n",
    "SLE_data_path = data_dir + 'raw/GSE174188_CLUES1_adjusted.h5ad'\n",
    "data = sc.read_h5ad(SLE_data_path)"
   ]
  },
  {
   "cell_type": "markdown",
   "metadata": {},
   "source": [
    "The data was cleaned, batch corrected, clustered, and annotated as described in the dataset's original publication: https://www.science.org/doi/10.1126/science.abf1970?url_ver=Z39.88-2003&rfr_id=ori:rid:crossref.org&rfr_dat=cr_pub%20%200pubmed. We extracted the raw counts and the annotations to use in the following analysis."
   ]
  },
  {
   "cell_type": "markdown",
   "metadata": {},
   "source": [
    "#### Get raw counts"
   ]
  },
  {
   "cell_type": "code",
   "execution_count": 4,
   "metadata": {},
   "outputs": [],
   "source": [
    "# get the raw counts \n",
    "raw_data = ad.AnnData(data.raw.X)"
   ]
  },
  {
   "cell_type": "markdown",
   "metadata": {},
   "source": [
    "The raw count data includes 1,263,676 cells and 32,738 genes"
   ]
  },
  {
   "cell_type": "code",
   "execution_count": 5,
   "metadata": {},
   "outputs": [
    {
     "name": "stdout",
     "output_type": "stream",
     "text": [
      "AnnData object with n_obs × n_vars = 1263676 × 32738\n"
     ]
    }
   ],
   "source": [
    "print(raw_data)"
   ]
  },
  {
   "cell_type": "markdown",
   "metadata": {},
   "source": [
    "#### Get annotations"
   ]
  },
  {
   "cell_type": "markdown",
   "metadata": {},
   "source": [
    "check annotations of cells:"
   ]
  },
  {
   "cell_type": "code",
   "execution_count": 6,
   "metadata": {},
   "outputs": [
    {
     "data": {
      "text/plain": [
       "Index(['batch_cov', 'ind_cov', 'Processing_Cohort', 'louvain', 'cg_cov',\n",
       "       'ct_cov', 'L3', 'ind_cov_batch_cov', 'Age', 'Sex', 'pop_cov', 'Status',\n",
       "       'SLE_status'],\n",
       "      dtype='object')"
      ]
     },
     "execution_count": 6,
     "metadata": {},
     "output_type": "execute_result"
    }
   ],
   "source": [
    "data.obs.columns"
   ]
  },
  {
   "cell_type": "markdown",
   "metadata": {},
   "source": [
    "get the information of sample id (ind_cov_batch_cov), subject id (ind_cov), processing batch (Processing_Cohort), age (Age), gender (Sex), ancestry (pop_cov), SLE status (SLE_status), and cell type (cg_cov):"
   ]
  },
  {
   "cell_type": "code",
   "execution_count": 7,
   "metadata": {},
   "outputs": [],
   "source": [
    "raw_data.obs = data.obs[['ind_cov_batch_cov', 'ind_cov', 'Processing_Cohort', \n",
    "                         'Age', 'Sex', 'pop_cov', 'SLE_status',\n",
    "                         'cg_cov']]"
   ]
  },
  {
   "cell_type": "code",
   "execution_count": 8,
   "metadata": {},
   "outputs": [
    {
     "data": {
      "text/html": [
       "<div>\n",
       "<style scoped>\n",
       "    .dataframe tbody tr th:only-of-type {\n",
       "        vertical-align: middle;\n",
       "    }\n",
       "\n",
       "    .dataframe tbody tr th {\n",
       "        vertical-align: top;\n",
       "    }\n",
       "\n",
       "    .dataframe thead th {\n",
       "        text-align: right;\n",
       "    }\n",
       "</style>\n",
       "<table border=\"1\" class=\"dataframe\">\n",
       "  <thead>\n",
       "    <tr style=\"text-align: right;\">\n",
       "      <th></th>\n",
       "      <th>ind_cov_batch_cov</th>\n",
       "      <th>ind_cov</th>\n",
       "      <th>Processing_Cohort</th>\n",
       "      <th>Age</th>\n",
       "      <th>Sex</th>\n",
       "      <th>pop_cov</th>\n",
       "      <th>SLE_status</th>\n",
       "      <th>cg_cov</th>\n",
       "    </tr>\n",
       "  </thead>\n",
       "  <tbody>\n",
       "    <tr>\n",
       "      <th>CAAGGCCAGTATCGAA-1-1-0-0-0-0-0-0-0-0-0-0-0-0-0-0-0-0-0-0-0-0-0-0-0-0-0-0-0-0-0-0-0-0-0-0-0-0-0-0-0-0-0-0-0-0-0-0-0-0-0-0-0-0-0-0-0-0-0-0-0-0-0-0-0-0-0-0-1-0-0-0-0-0</th>\n",
       "      <td>HC-546:dmx_YS-JY-22_pool6</td>\n",
       "      <td>HC-546</td>\n",
       "      <td>4.0</td>\n",
       "      <td>28.0</td>\n",
       "      <td>Female</td>\n",
       "      <td>Asian</td>\n",
       "      <td>Healthy</td>\n",
       "      <td>T4</td>\n",
       "    </tr>\n",
       "    <tr>\n",
       "      <th>CTAACTTCAATGAATG-1-1-0-0-0-0-0-0-0-0-0-0-0-0-0-0-0-0-0-0-0-0-0-0-0-0-0-0-0-0-0-0-0-0-0-0-0-0-0-0-0-0-0-0-0-0-0-0-0-0-0-0-0-0-0-0-0-0-0-0-0-0-0-0-0-0-0-0-0-1-0-0-0-0-0</th>\n",
       "      <td>1132_1132:dmx_YS-JY-22_pool6</td>\n",
       "      <td>1132_1132</td>\n",
       "      <td>4.0</td>\n",
       "      <td>45.0</td>\n",
       "      <td>Female</td>\n",
       "      <td>European</td>\n",
       "      <td>SLE</td>\n",
       "      <td>cM</td>\n",
       "    </tr>\n",
       "    <tr>\n",
       "      <th>AAGTCTGGTCTACCTC-1-1-0-0-0-0-0-0-0-0-0-0-0-0-0-0-0-0-0-0-0-0-0-0-0-0-0-0-0-0</th>\n",
       "      <td>FLARE006:dmx_AbFlare-3</td>\n",
       "      <td>FLARE006</td>\n",
       "      <td>3.0</td>\n",
       "      <td>34.0</td>\n",
       "      <td>Female</td>\n",
       "      <td>European</td>\n",
       "      <td>SLE</td>\n",
       "      <td>cM</td>\n",
       "    </tr>\n",
       "    <tr>\n",
       "      <th>GGCTCGATCGTTGACA-1-1-0-0-0-0-0-0-0-0-0-0-0-0-0-0-0-0-0-0-0-0-0-0-0-0-0-0-0-0-0-0-0-0-0-0-0-0-0-0-0-0-0-0-0-0-0-0-0-0-0-0-0-0-0-0-0-0-0-0-0-0-0-0-0-0-0-0-0-0-0-0-0-0-0-0-0-0-0-0-0-1-0-0-0-0-0-0-0-0-0-0</th>\n",
       "      <td>1110_1110:dmx_YS-JY-20_pool3</td>\n",
       "      <td>1110_1110</td>\n",
       "      <td>4.0</td>\n",
       "      <td>71.0</td>\n",
       "      <td>Female</td>\n",
       "      <td>European</td>\n",
       "      <td>SLE</td>\n",
       "      <td>B</td>\n",
       "    </tr>\n",
       "    <tr>\n",
       "      <th>ACACCGGCACACAGAG-1-1-0-0-0-0-0-0-0-0-0-0-0-0-0-0-0-0-0-0-0-0-0-0-0-0-0-0-0-0-0-0-0-0-0-0-0-0-0-0-0-0-0-0-1-0-0-0-0-0-0-0-0-0-0-0-0-0-0-0-0-0-0-0-0</th>\n",
       "      <td>1479_1479:dmx_YE110</td>\n",
       "      <td>1479_1479</td>\n",
       "      <td>2.0</td>\n",
       "      <td>28.0</td>\n",
       "      <td>Female</td>\n",
       "      <td>Asian</td>\n",
       "      <td>SLE</td>\n",
       "      <td>T4</td>\n",
       "    </tr>\n",
       "  </tbody>\n",
       "</table>\n",
       "</div>"
      ],
      "text/plain": [
       "                                                               ind_cov_batch_cov  \\\n",
       "CAAGGCCAGTATCGAA-1-1-0-0-0-0-0-0-0-0-0-0-0-0-0-...     HC-546:dmx_YS-JY-22_pool6   \n",
       "CTAACTTCAATGAATG-1-1-0-0-0-0-0-0-0-0-0-0-0-0-0-...  1132_1132:dmx_YS-JY-22_pool6   \n",
       "AAGTCTGGTCTACCTC-1-1-0-0-0-0-0-0-0-0-0-0-0-0-0-...        FLARE006:dmx_AbFlare-3   \n",
       "GGCTCGATCGTTGACA-1-1-0-0-0-0-0-0-0-0-0-0-0-0-0-...  1110_1110:dmx_YS-JY-20_pool3   \n",
       "ACACCGGCACACAGAG-1-1-0-0-0-0-0-0-0-0-0-0-0-0-0-...           1479_1479:dmx_YE110   \n",
       "\n",
       "                                                      ind_cov  \\\n",
       "CAAGGCCAGTATCGAA-1-1-0-0-0-0-0-0-0-0-0-0-0-0-0-...     HC-546   \n",
       "CTAACTTCAATGAATG-1-1-0-0-0-0-0-0-0-0-0-0-0-0-0-...  1132_1132   \n",
       "AAGTCTGGTCTACCTC-1-1-0-0-0-0-0-0-0-0-0-0-0-0-0-...   FLARE006   \n",
       "GGCTCGATCGTTGACA-1-1-0-0-0-0-0-0-0-0-0-0-0-0-0-...  1110_1110   \n",
       "ACACCGGCACACAGAG-1-1-0-0-0-0-0-0-0-0-0-0-0-0-0-...  1479_1479   \n",
       "\n",
       "                                                   Processing_Cohort   Age  \\\n",
       "CAAGGCCAGTATCGAA-1-1-0-0-0-0-0-0-0-0-0-0-0-0-0-...               4.0  28.0   \n",
       "CTAACTTCAATGAATG-1-1-0-0-0-0-0-0-0-0-0-0-0-0-0-...               4.0  45.0   \n",
       "AAGTCTGGTCTACCTC-1-1-0-0-0-0-0-0-0-0-0-0-0-0-0-...               3.0  34.0   \n",
       "GGCTCGATCGTTGACA-1-1-0-0-0-0-0-0-0-0-0-0-0-0-0-...               4.0  71.0   \n",
       "ACACCGGCACACAGAG-1-1-0-0-0-0-0-0-0-0-0-0-0-0-0-...               2.0  28.0   \n",
       "\n",
       "                                                       Sex   pop_cov  \\\n",
       "CAAGGCCAGTATCGAA-1-1-0-0-0-0-0-0-0-0-0-0-0-0-0-...  Female     Asian   \n",
       "CTAACTTCAATGAATG-1-1-0-0-0-0-0-0-0-0-0-0-0-0-0-...  Female  European   \n",
       "AAGTCTGGTCTACCTC-1-1-0-0-0-0-0-0-0-0-0-0-0-0-0-...  Female  European   \n",
       "GGCTCGATCGTTGACA-1-1-0-0-0-0-0-0-0-0-0-0-0-0-0-...  Female  European   \n",
       "ACACCGGCACACAGAG-1-1-0-0-0-0-0-0-0-0-0-0-0-0-0-...  Female     Asian   \n",
       "\n",
       "                                                   SLE_status cg_cov  \n",
       "CAAGGCCAGTATCGAA-1-1-0-0-0-0-0-0-0-0-0-0-0-0-0-...    Healthy     T4  \n",
       "CTAACTTCAATGAATG-1-1-0-0-0-0-0-0-0-0-0-0-0-0-0-...        SLE     cM  \n",
       "AAGTCTGGTCTACCTC-1-1-0-0-0-0-0-0-0-0-0-0-0-0-0-...        SLE     cM  \n",
       "GGCTCGATCGTTGACA-1-1-0-0-0-0-0-0-0-0-0-0-0-0-0-...        SLE      B  \n",
       "ACACCGGCACACAGAG-1-1-0-0-0-0-0-0-0-0-0-0-0-0-0-...        SLE     T4  "
      ]
     },
     "execution_count": 8,
     "metadata": {},
     "output_type": "execute_result"
    }
   ],
   "source": [
    "raw_data.obs.head()"
   ]
  },
  {
   "cell_type": "markdown",
   "metadata": {},
   "source": [
    "check annotations of genes:"
   ]
  },
  {
   "cell_type": "code",
   "execution_count": 9,
   "metadata": {},
   "outputs": [
    {
     "data": {
      "text/html": [
       "<div>\n",
       "<style scoped>\n",
       "    .dataframe tbody tr th:only-of-type {\n",
       "        vertical-align: middle;\n",
       "    }\n",
       "\n",
       "    .dataframe tbody tr th {\n",
       "        vertical-align: top;\n",
       "    }\n",
       "\n",
       "    .dataframe thead th {\n",
       "        text-align: right;\n",
       "    }\n",
       "</style>\n",
       "<table border=\"1\" class=\"dataframe\">\n",
       "  <thead>\n",
       "    <tr style=\"text-align: right;\">\n",
       "      <th></th>\n",
       "      <th>gene_ids</th>\n",
       "      <th>feature_types-0-0-0-0-0-0-0-0-0-0-0-0-0-0-0-0-0-0-0-0-0-0-0-0-0-0-0-0-0-0-0-0-0-0-0-0-0-0-0-0-0-0-0-0-0-0-0-0-0-0-0-0-0-0-0-0-0-0-0-0-0-0-0-0</th>\n",
       "    </tr>\n",
       "  </thead>\n",
       "  <tbody>\n",
       "    <tr>\n",
       "      <th>MIR1302-10</th>\n",
       "      <td>ENSG00000243485</td>\n",
       "      <td>Gene Expression</td>\n",
       "    </tr>\n",
       "    <tr>\n",
       "      <th>FAM138A</th>\n",
       "      <td>ENSG00000237613</td>\n",
       "      <td>Gene Expression</td>\n",
       "    </tr>\n",
       "    <tr>\n",
       "      <th>OR4F5</th>\n",
       "      <td>ENSG00000186092</td>\n",
       "      <td>Gene Expression</td>\n",
       "    </tr>\n",
       "    <tr>\n",
       "      <th>RP11-34P13.7</th>\n",
       "      <td>ENSG00000238009</td>\n",
       "      <td>Gene Expression</td>\n",
       "    </tr>\n",
       "    <tr>\n",
       "      <th>RP11-34P13.8</th>\n",
       "      <td>ENSG00000239945</td>\n",
       "      <td>Gene Expression</td>\n",
       "    </tr>\n",
       "  </tbody>\n",
       "</table>\n",
       "</div>"
      ],
      "text/plain": [
       "                     gene_ids  \\\n",
       "MIR1302-10    ENSG00000243485   \n",
       "FAM138A       ENSG00000237613   \n",
       "OR4F5         ENSG00000186092   \n",
       "RP11-34P13.7  ENSG00000238009   \n",
       "RP11-34P13.8  ENSG00000239945   \n",
       "\n",
       "             feature_types-0-0-0-0-0-0-0-0-0-0-0-0-0-0-0-0-0-0-0-0-0-0-0-0-0-0-0-0-0-0-0-0-0-0-0-0-0-0-0-0-0-0-0-0-0-0-0-0-0-0-0-0-0-0-0-0-0-0-0-0-0-0-0-0  \n",
       "MIR1302-10                                      Gene Expression                                                                                             \n",
       "FAM138A                                         Gene Expression                                                                                             \n",
       "OR4F5                                           Gene Expression                                                                                             \n",
       "RP11-34P13.7                                    Gene Expression                                                                                             \n",
       "RP11-34P13.8                                    Gene Expression                                                                                             "
      ]
     },
     "execution_count": 9,
     "metadata": {},
     "output_type": "execute_result"
    }
   ],
   "source": [
    "data.raw.var.head()"
   ]
  },
  {
   "cell_type": "code",
   "execution_count": 10,
   "metadata": {},
   "outputs": [],
   "source": [
    "raw_data.var = data.raw.var"
   ]
  },
  {
   "cell_type": "markdown",
   "metadata": {},
   "source": [
    "## 2. Aggregate single cell expression"
   ]
  },
  {
   "cell_type": "markdown",
   "metadata": {},
   "source": [
    "### 2.1 reduced the dataset down to one sequencing sample per subject"
   ]
  },
  {
   "cell_type": "markdown",
   "metadata": {},
   "source": [
    "The SLE scRNA-seq dataset collects multiplexed scRNA-seq of 264 PBMC samples and 91 technical replicates from 162 SLE patients and 99 healthy controls."
   ]
  },
  {
   "cell_type": "markdown",
   "metadata": {},
   "source": [
    "355 sequencing samples = 264 samples + 91 replicates:"
   ]
  },
  {
   "cell_type": "code",
   "execution_count": 11,
   "metadata": {},
   "outputs": [
    {
     "data": {
      "text/plain": [
       "355"
      ]
     },
     "execution_count": 11,
     "metadata": {},
     "output_type": "execute_result"
    }
   ],
   "source": [
    "len(raw_data.obs['ind_cov_batch_cov'].unique())"
   ]
  },
  {
   "cell_type": "markdown",
   "metadata": {},
   "source": [
    "261 subjects = 162 SLE patients and 99 healthy controls:"
   ]
  },
  {
   "cell_type": "code",
   "execution_count": 12,
   "metadata": {},
   "outputs": [
    {
     "data": {
      "text/plain": [
       "SLE_status\n",
       "Healthy     99\n",
       "SLE        162\n",
       "Name: ind_cov, dtype: int64"
      ]
     },
     "execution_count": 12,
     "metadata": {},
     "output_type": "execute_result"
    }
   ],
   "source": [
    "raw_data.obs.groupby('SLE_status')['ind_cov'].nunique()"
   ]
  },
  {
   "cell_type": "markdown",
   "metadata": {},
   "source": [
    "We reduced the dataset down to one sequencing sample per subject by selecting the sample with largest number of cells. "
   ]
  },
  {
   "cell_type": "code",
   "execution_count": 13,
   "metadata": {},
   "outputs": [],
   "source": [
    "# get donor list\n",
    "all_subjects = raw_data.obs.ind_cov.unique()"
   ]
  },
  {
   "cell_type": "code",
   "execution_count": 14,
   "metadata": {},
   "outputs": [],
   "source": [
    "def preprocess_gene_expression(subject, out_cols, h5_data=raw_data,min_cells=3):\n",
    "    \n",
    "    # get all samples for one subject\n",
    "    subject_adata = h5_data[h5_data.obs['ind_cov'] == subject].copy()\n",
    "    \n",
    "    # For subject with more than 1 sample, select the sample with most cells \n",
    "    if subject_adata.obs['ind_cov_batch_cov'].nunique() > 1:\n",
    "        select_sample = subject_adata.obs['ind_cov_batch_cov'].value_counts().index[0]\n",
    "        subject_adata = subject_adata[subject_adata.obs['ind_cov_batch_cov'] == select_sample]\n",
    "    \n",
    "    # extract expression matrix (count data)\n",
    "    df = pd.DataFrame.sparse.from_spmatrix(subject_adata.X).T\n",
    "    ## columns: cell barcodes\n",
    "    df.columns = subject_adata.obs.index.values\n",
    "    ## rows: genes\n",
    "    df = df.set_index(subject_adata.var['gene_ids'])\n",
    "    ## filter genes by number of expressed cells\n",
    "    filtered_df = df.loc[(df > 0).sum(axis=1) > min_cells]\n",
    "    \n",
    "    # extract subject-level information\n",
    "    subject_info = subject_adata.obs[out_cols].drop_duplicates().reset_index(drop=True)\n",
    "    \n",
    "     # extract cell types\n",
    "    subject_meta = subject_adata.obs[['cg_cov']]\n",
    "    \n",
    "    return filtered_df, subject_meta, subject_info"
   ]
  },
  {
   "cell_type": "markdown",
   "metadata": {},
   "source": [
    "### 2.2 aggregate single cell expression to cell-type-based expression matrices"
   ]
  },
  {
   "cell_type": "markdown",
   "metadata": {},
   "source": [
    "create the output directory and the output file of subject-level information:"
   ]
  },
  {
   "cell_type": "code",
   "execution_count": 15,
   "metadata": {},
   "outputs": [],
   "source": [
    "# output file of subject-level information\n",
    "out_cols = ['ind_cov', 'Processing_Cohort', \n",
    "       'Age', 'Sex', 'pop_cov', 'SLE_status']\n",
    "out_df = pd.DataFrame(columns = out_cols)\n",
    "out_df.to_csv(data_dir + 'subject_info.txt',\n",
    "              index=None,\n",
    "              sep='\\t',\n",
    "              header=True,\n",
    "              mode='w')"
   ]
  },
  {
   "cell_type": "code",
   "execution_count": 16,
   "metadata": {},
   "outputs": [
    {
     "name": "stderr",
     "output_type": "stream",
     "text": [
      "  0%|                                                   | 0/261 [00:00<?, ?it/s]/home/qdai8/projects/miniconda3/envs/cell2cell/lib/python3.7/site-packages/cell2cell/preprocessing/rnaseq.py:250: PerformanceWarning: DataFrame is highly fragmented.  This is usually the result of calling `frame.insert` many times, which has poor performance.  Consider joining all columns at once using pd.concat(axis=1) instead.  To get a de-fragmented frame, use `newframe = frame.copy()`\n",
      "  df.reset_index(inplace=True)\n",
      "100%|███████████████████████████████████████| 261/261 [2:41:45<00:00, 37.19s/it]\n"
     ]
    }
   ],
   "source": [
    "for sample in tqdm(all_subjects):\n",
    "    filtered_df, sample_meta, subject_info = preprocess_gene_expression(sample, out_cols)\n",
    "    \n",
    "    # Aggregate single cell expression to cell-type-based expression matrices\n",
    "    avg_df = aggregate_single_cells(rnaseq_data=filtered_df,\n",
    "                                    metadata=sample_meta,\n",
    "                                    barcode_col='index',\n",
    "                                    celltype_col='cg_cov',\n",
    "                                    method='nn_cell_fraction',\n",
    "                                    transposed=False)\n",
    "  \n",
    "    avg_df.to_csv(data_dir + 'CellnnFraction_Validation/{}.CellnnFraction.csv.gz'.format(sample))\n",
    "    \n",
    "    subject_info.to_csv(data_dir + 'subject_info.txt',\n",
    "                        index=None,\n",
    "                        sep='\\t',\n",
    "                        header=False,\n",
    "                        mode='a')"
   ]
  }
 ],
 "metadata": {
  "kernelspec": {
   "display_name": "Python 3 (ipykernel)",
   "language": "python",
   "name": "python3"
  },
  "language_info": {
   "codemirror_mode": {
    "name": "ipython",
    "version": 3
   },
   "file_extension": ".py",
   "mimetype": "text/x-python",
   "name": "python",
   "nbconvert_exporter": "python",
   "pygments_lexer": "ipython3",
   "version": "3.7.13"
  },
  "vscode": {
   "interpreter": {
    "hash": "5ed948bcd2f06d5c6a161520b4347670a29c19d61861200a421bb99cea081820"
   }
  }
 },
 "nbformat": 4,
 "nbformat_minor": 2
}
