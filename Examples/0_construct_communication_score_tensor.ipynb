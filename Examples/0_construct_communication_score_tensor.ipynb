{
 "cells": [
  {
   "cell_type": "markdown",
   "id": "a415d39f-cb6e-4507-b006-7a84c2e834cd",
   "metadata": {},
   "source": [
    "## This script uses Scanpy to preprocess scRNA-seq data, then applies LIANA to perform communication inference for each sample, and constructs a 4-dimensional communication score tensor."
   ]
  },
  {
   "cell_type": "code",
   "execution_count": 2,
   "id": "9f55d0d3",
   "metadata": {},
   "outputs": [],
   "source": [
    "import pandas as pd\n",
    "import scanpy as sc\n",
    "import liana as li\n",
    "import warnings\n",
    "warnings.filterwarnings('ignore')\n",
    "\n",
    "%matplotlib inline"
   ]
  },
  {
   "cell_type": "markdown",
   "id": "3385d873",
   "metadata": {},
   "source": [
    "# 1. Preprocessing Data"
   ]
  },
  {
   "cell_type": "markdown",
   "id": "78ae8824",
   "metadata": {},
   "source": [
    "## 1.1. Download Data"
   ]
  },
  {
   "cell_type": "markdown",
   "id": "b3b02ba1",
   "metadata": {},
   "source": [
    "**RNA-seq data**"
   ]
  },
  {
   "cell_type": "markdown",
   "id": "7f00c7d8",
   "metadata": {},
   "source": [
    "Expression matrix was obtained from: https://cells.ucsc.edu/autism/exprMatrix.tsv.gz\n",
    "<br>Values are 10x UMI counts from cellranger, log2-transformed\n",
    "\n",
    "Metadata was obtained from: https://cells.ucsc.edu/autism/meta.tsv"
   ]
  },
  {
   "cell_type": "markdown",
   "id": "ecaed897",
   "metadata": {},
   "source": [
    "Here is the bash script to download data:"
   ]
  },
  {
   "cell_type": "markdown",
   "id": "073e5fe4",
   "metadata": {},
   "source": [
    "```\n",
    "raw_data_dir=/projects/compbio/users/rche384/APE/Data/RDA/ASD/raw\n",
    "mkdir -p ${raw_data_dir}\n",
    "cd ${raw_data_dir}\n",
    "wget https://cells.ucsc.edu/autism/exprMatrix.tsv.gz \n",
    "wget https://cells.ucsc.edu/autism/meta.tsv\n",
    "wget --no-check-certificate https://cells.ucsc.edu/autism/rawMatrix.zip\n",
    "```"
   ]
  },
  {
   "cell_type": "code",
   "execution_count": 3,
   "id": "103f63a4-0124-43e2-888f-d6edff526eb2",
   "metadata": {},
   "outputs": [],
   "source": [
    "data_folder = '/projects/compbio/users/rche384/APE/Data/RDA/ASD/raw'\n",
    "# Load the raw data\n",
    "adata = sc.read_mtx(f'{data_folder}/matrix.mtx').T  # Transpose because we want data is in cells x genes format\n",
    "\n",
    "# Load gene names\n",
    "genes = pd.read_csv(f'{data_folder}/genes.tsv', header=None, sep='\\t')\n",
    "genes.columns = ['gene_id', 'gene_symbol']\n",
    "genes['combined'] = genes['gene_id'] + '|' + genes['gene_symbol']\n",
    "adata.var_names = genes['combined'].values\n",
    "\n",
    "# Load cell barcodes\n",
    "barcodes = pd.read_csv(f'{data_folder}/barcodes.tsv', header=None, sep='\\t')\n",
    "adata.obs_names = barcodes[0].values\n",
    "\n",
    "# Load metadata\n",
    "metadata = pd.read_csv(f'{data_folder}/meta.txt', sep='\\t')\n",
    "\n",
    "# Set metadata into adata.obs, ensuring that the barcodes match\n",
    "adata.obs = metadata.set_index('cell')"
   ]
  },
  {
   "cell_type": "code",
   "execution_count": 4,
   "id": "6a9761a6-b1c5-45d9-8354-0cbb05914bf1",
   "metadata": {},
   "outputs": [
    {
     "name": "stdout",
     "output_type": "stream",
     "text": [
      "AnnData object with n_obs × n_vars = 104559 × 65217\n",
      "    obs: 'cluster', 'sample', 'individual', 'region', 'age', 'sex', 'diagnosis', 'Capbatch', 'Seqbatch', 'post-mortem interval (hours)', 'RNA Integrity Number', 'genes', 'UMIs', 'RNA mitochondr. percent', 'RNA ribosomal percent'\n"
     ]
    }
   ],
   "source": [
    "print(adata)"
   ]
  },
  {
   "cell_type": "markdown",
   "id": "c30f483a-ce0b-4b3f-8840-bfe645340775",
   "metadata": {},
   "source": [
    "## 1.2 Select PFC brain region"
   ]
  },
  {
   "cell_type": "code",
   "execution_count": 6,
   "id": "85ef2b0c-c85a-4d14-aeae-916dac3d7b0f",
   "metadata": {},
   "outputs": [],
   "source": [
    "brain_area = 'PFC'\n",
    "filtered_adata = adata[adata.obs.region == brain_area]"
   ]
  },
  {
   "cell_type": "code",
   "execution_count": 7,
   "id": "ad493057-791c-4614-a297-ebd7c55a1134",
   "metadata": {},
   "outputs": [
    {
     "name": "stdout",
     "output_type": "stream",
     "text": [
      "View of AnnData object with n_obs × n_vars = 62166 × 65217\n",
      "    obs: 'cluster', 'sample', 'individual', 'region', 'age', 'sex', 'diagnosis', 'Capbatch', 'Seqbatch', 'post-mortem interval (hours)', 'RNA Integrity Number', 'genes', 'UMIs', 'RNA mitochondr. percent', 'RNA ribosomal percent'\n"
     ]
    }
   ],
   "source": [
    "print(filtered_adata)"
   ]
  },
  {
   "cell_type": "markdown",
   "id": "e7333379-dc9b-4e89-8f82-68b74dfb1cbf",
   "metadata": {},
   "source": [
    "## 1.3 Basic Quality Control"
   ]
  },
  {
   "cell_type": "code",
   "execution_count": 8,
   "id": "73021d32-0d35-46e5-8e26-b136a8813915",
   "metadata": {},
   "outputs": [],
   "source": [
    "# filter cells and genes\n",
    "sc.pp.filter_cells(filtered_adata, min_genes=200)\n",
    "sc.pp.filter_genes(filtered_adata, min_cells=3)\n",
    "# log1p normalize the data\n",
    "sc.pp.normalize_total(filtered_adata)\n",
    "sc.pp.log1p(filtered_adata)"
   ]
  },
  {
   "cell_type": "code",
   "execution_count": 9,
   "id": "374ee4b7-ee3b-43ba-92b7-4917e124fc49",
   "metadata": {},
   "outputs": [
    {
     "name": "stdout",
     "output_type": "stream",
     "text": [
      "AnnData object with n_obs × n_vars = 62166 × 36745\n",
      "    obs: 'cluster', 'sample', 'individual', 'region', 'age', 'sex', 'diagnosis', 'Capbatch', 'Seqbatch', 'post-mortem interval (hours)', 'RNA Integrity Number', 'genes', 'UMIs', 'RNA mitochondr. percent', 'RNA ribosomal percent', 'n_genes'\n",
      "    var: 'n_cells'\n",
      "    uns: 'log1p'\n"
     ]
    }
   ],
   "source": [
    "print(filtered_adata)"
   ]
  },
  {
   "cell_type": "code",
   "execution_count": 10,
   "id": "55b64a31-cd01-45b7-b236-b20050eb6814",
   "metadata": {},
   "outputs": [
    {
     "data": {
      "text/html": [
       "<div>\n",
       "<style scoped>\n",
       "    .dataframe tbody tr th:only-of-type {\n",
       "        vertical-align: middle;\n",
       "    }\n",
       "\n",
       "    .dataframe tbody tr th {\n",
       "        vertical-align: top;\n",
       "    }\n",
       "\n",
       "    .dataframe thead th {\n",
       "        text-align: right;\n",
       "    }\n",
       "</style>\n",
       "<table border=\"1\" class=\"dataframe\">\n",
       "  <thead>\n",
       "    <tr style=\"text-align: right;\">\n",
       "      <th></th>\n",
       "      <th>cluster</th>\n",
       "      <th>sample</th>\n",
       "      <th>individual</th>\n",
       "      <th>region</th>\n",
       "      <th>age</th>\n",
       "      <th>sex</th>\n",
       "      <th>diagnosis</th>\n",
       "      <th>Capbatch</th>\n",
       "      <th>Seqbatch</th>\n",
       "      <th>post-mortem interval (hours)</th>\n",
       "      <th>RNA Integrity Number</th>\n",
       "      <th>genes</th>\n",
       "      <th>UMIs</th>\n",
       "      <th>RNA mitochondr. percent</th>\n",
       "      <th>RNA ribosomal percent</th>\n",
       "      <th>n_genes</th>\n",
       "    </tr>\n",
       "    <tr>\n",
       "      <th>cell</th>\n",
       "      <th></th>\n",
       "      <th></th>\n",
       "      <th></th>\n",
       "      <th></th>\n",
       "      <th></th>\n",
       "      <th></th>\n",
       "      <th></th>\n",
       "      <th></th>\n",
       "      <th></th>\n",
       "      <th></th>\n",
       "      <th></th>\n",
       "      <th></th>\n",
       "      <th></th>\n",
       "      <th></th>\n",
       "      <th></th>\n",
       "      <th></th>\n",
       "    </tr>\n",
       "  </thead>\n",
       "  <tbody>\n",
       "    <tr>\n",
       "      <th>AAACCTGAGATGGCGT-1_4341_BA46</th>\n",
       "      <td>AST-PP</td>\n",
       "      <td>4341_BA46</td>\n",
       "      <td>4341</td>\n",
       "      <td>PFC</td>\n",
       "      <td>13</td>\n",
       "      <td>M</td>\n",
       "      <td>Control</td>\n",
       "      <td>CB6</td>\n",
       "      <td>SB2</td>\n",
       "      <td>16</td>\n",
       "      <td>7.2</td>\n",
       "      <td>792</td>\n",
       "      <td>1121</td>\n",
       "      <td>0.089206</td>\n",
       "      <td>1.338091</td>\n",
       "      <td>792</td>\n",
       "    </tr>\n",
       "    <tr>\n",
       "      <th>AAACCTGAGCTAACTC-1_4341_BA46</th>\n",
       "      <td>Oligodendrocytes</td>\n",
       "      <td>4341_BA46</td>\n",
       "      <td>4341</td>\n",
       "      <td>PFC</td>\n",
       "      <td>13</td>\n",
       "      <td>M</td>\n",
       "      <td>Control</td>\n",
       "      <td>CB6</td>\n",
       "      <td>SB2</td>\n",
       "      <td>16</td>\n",
       "      <td>7.2</td>\n",
       "      <td>658</td>\n",
       "      <td>928</td>\n",
       "      <td>0.431034</td>\n",
       "      <td>0.862069</td>\n",
       "      <td>658</td>\n",
       "    </tr>\n",
       "    <tr>\n",
       "      <th>AAACCTGAGTGTTAGA-1_4341_BA46</th>\n",
       "      <td>L5/6</td>\n",
       "      <td>4341_BA46</td>\n",
       "      <td>4341</td>\n",
       "      <td>PFC</td>\n",
       "      <td>13</td>\n",
       "      <td>M</td>\n",
       "      <td>Control</td>\n",
       "      <td>CB6</td>\n",
       "      <td>SB2</td>\n",
       "      <td>16</td>\n",
       "      <td>7.2</td>\n",
       "      <td>4890</td>\n",
       "      <td>13640</td>\n",
       "      <td>0.857771</td>\n",
       "      <td>0.469208</td>\n",
       "      <td>4890</td>\n",
       "    </tr>\n",
       "    <tr>\n",
       "      <th>AAACCTGCACCCATTC-1_4341_BA46</th>\n",
       "      <td>L2/3</td>\n",
       "      <td>4341_BA46</td>\n",
       "      <td>4341</td>\n",
       "      <td>PFC</td>\n",
       "      <td>13</td>\n",
       "      <td>M</td>\n",
       "      <td>Control</td>\n",
       "      <td>CB6</td>\n",
       "      <td>SB2</td>\n",
       "      <td>16</td>\n",
       "      <td>7.2</td>\n",
       "      <td>3967</td>\n",
       "      <td>8526</td>\n",
       "      <td>0.469153</td>\n",
       "      <td>0.516069</td>\n",
       "      <td>3967</td>\n",
       "    </tr>\n",
       "    <tr>\n",
       "      <th>AAACCTGTCTCATTCA-1_4341_BA46</th>\n",
       "      <td>Microglia</td>\n",
       "      <td>4341_BA46</td>\n",
       "      <td>4341</td>\n",
       "      <td>PFC</td>\n",
       "      <td>13</td>\n",
       "      <td>M</td>\n",
       "      <td>Control</td>\n",
       "      <td>CB6</td>\n",
       "      <td>SB2</td>\n",
       "      <td>16</td>\n",
       "      <td>7.2</td>\n",
       "      <td>621</td>\n",
       "      <td>846</td>\n",
       "      <td>0.236407</td>\n",
       "      <td>0.945627</td>\n",
       "      <td>621</td>\n",
       "    </tr>\n",
       "  </tbody>\n",
       "</table>\n",
       "</div>"
      ],
      "text/plain": [
       "                                       cluster     sample  individual region  \\\n",
       "cell                                                                           \n",
       "AAACCTGAGATGGCGT-1_4341_BA46            AST-PP  4341_BA46        4341    PFC   \n",
       "AAACCTGAGCTAACTC-1_4341_BA46  Oligodendrocytes  4341_BA46        4341    PFC   \n",
       "AAACCTGAGTGTTAGA-1_4341_BA46              L5/6  4341_BA46        4341    PFC   \n",
       "AAACCTGCACCCATTC-1_4341_BA46              L2/3  4341_BA46        4341    PFC   \n",
       "AAACCTGTCTCATTCA-1_4341_BA46         Microglia  4341_BA46        4341    PFC   \n",
       "\n",
       "                              age sex diagnosis Capbatch Seqbatch  \\\n",
       "cell                                                                \n",
       "AAACCTGAGATGGCGT-1_4341_BA46   13   M   Control      CB6      SB2   \n",
       "AAACCTGAGCTAACTC-1_4341_BA46   13   M   Control      CB6      SB2   \n",
       "AAACCTGAGTGTTAGA-1_4341_BA46   13   M   Control      CB6      SB2   \n",
       "AAACCTGCACCCATTC-1_4341_BA46   13   M   Control      CB6      SB2   \n",
       "AAACCTGTCTCATTCA-1_4341_BA46   13   M   Control      CB6      SB2   \n",
       "\n",
       "                              post-mortem interval (hours)  \\\n",
       "cell                                                         \n",
       "AAACCTGAGATGGCGT-1_4341_BA46                            16   \n",
       "AAACCTGAGCTAACTC-1_4341_BA46                            16   \n",
       "AAACCTGAGTGTTAGA-1_4341_BA46                            16   \n",
       "AAACCTGCACCCATTC-1_4341_BA46                            16   \n",
       "AAACCTGTCTCATTCA-1_4341_BA46                            16   \n",
       "\n",
       "                              RNA Integrity Number  genes   UMIs  \\\n",
       "cell                                                               \n",
       "AAACCTGAGATGGCGT-1_4341_BA46                   7.2    792   1121   \n",
       "AAACCTGAGCTAACTC-1_4341_BA46                   7.2    658    928   \n",
       "AAACCTGAGTGTTAGA-1_4341_BA46                   7.2   4890  13640   \n",
       "AAACCTGCACCCATTC-1_4341_BA46                   7.2   3967   8526   \n",
       "AAACCTGTCTCATTCA-1_4341_BA46                   7.2    621    846   \n",
       "\n",
       "                              RNA mitochondr. percent  RNA ribosomal percent  \\\n",
       "cell                                                                           \n",
       "AAACCTGAGATGGCGT-1_4341_BA46                 0.089206               1.338091   \n",
       "AAACCTGAGCTAACTC-1_4341_BA46                 0.431034               0.862069   \n",
       "AAACCTGAGTGTTAGA-1_4341_BA46                 0.857771               0.469208   \n",
       "AAACCTGCACCCATTC-1_4341_BA46                 0.469153               0.516069   \n",
       "AAACCTGTCTCATTCA-1_4341_BA46                 0.236407               0.945627   \n",
       "\n",
       "                              n_genes  \n",
       "cell                                   \n",
       "AAACCTGAGATGGCGT-1_4341_BA46      792  \n",
       "AAACCTGAGCTAACTC-1_4341_BA46      658  \n",
       "AAACCTGAGTGTTAGA-1_4341_BA46     4890  \n",
       "AAACCTGCACCCATTC-1_4341_BA46     3967  \n",
       "AAACCTGTCTCATTCA-1_4341_BA46      621  "
      ]
     },
     "execution_count": 10,
     "metadata": {},
     "output_type": "execute_result"
    }
   ],
   "source": [
    "filtered_adata.obs.head()"
   ]
  },
  {
   "cell_type": "code",
   "execution_count": 11,
   "id": "74fe5ae5-6bfc-45c4-b590-6085aabde26e",
   "metadata": {},
   "outputs": [
    {
     "data": {
      "text/html": [
       "<div>\n",
       "<style scoped>\n",
       "    .dataframe tbody tr th:only-of-type {\n",
       "        vertical-align: middle;\n",
       "    }\n",
       "\n",
       "    .dataframe tbody tr th {\n",
       "        vertical-align: top;\n",
       "    }\n",
       "\n",
       "    .dataframe thead th {\n",
       "        text-align: right;\n",
       "    }\n",
       "</style>\n",
       "<table border=\"1\" class=\"dataframe\">\n",
       "  <thead>\n",
       "    <tr style=\"text-align: right;\">\n",
       "      <th></th>\n",
       "      <th>n_cells</th>\n",
       "    </tr>\n",
       "  </thead>\n",
       "  <tbody>\n",
       "    <tr>\n",
       "      <th>ENSG00000227232|WASH7P</th>\n",
       "      <td>1902</td>\n",
       "    </tr>\n",
       "    <tr>\n",
       "      <th>ENSG00000243485|RP11-34P13.3</th>\n",
       "      <td>34</td>\n",
       "    </tr>\n",
       "    <tr>\n",
       "      <th>ENSG00000238009|RP11-34P13.7</th>\n",
       "      <td>410</td>\n",
       "    </tr>\n",
       "    <tr>\n",
       "      <th>ENSG00000233750|CICP27</th>\n",
       "      <td>781</td>\n",
       "    </tr>\n",
       "    <tr>\n",
       "      <th>ENSG00000268903|RP11-34P13.15</th>\n",
       "      <td>198</td>\n",
       "    </tr>\n",
       "  </tbody>\n",
       "</table>\n",
       "</div>"
      ],
      "text/plain": [
       "                               n_cells\n",
       "ENSG00000227232|WASH7P            1902\n",
       "ENSG00000243485|RP11-34P13.3        34\n",
       "ENSG00000238009|RP11-34P13.7       410\n",
       "ENSG00000233750|CICP27             781\n",
       "ENSG00000268903|RP11-34P13.15      198"
      ]
     },
     "execution_count": 11,
     "metadata": {},
     "output_type": "execute_result"
    }
   ],
   "source": [
    "filtered_adata.var.head()"
   ]
  },
  {
   "cell_type": "code",
   "execution_count": 12,
   "id": "561e19c0-8dbd-4e54-9ef6-493f27d661f5",
   "metadata": {},
   "outputs": [],
   "source": [
    "filtered_adata.var.index = [idx.split('|')[1] for idx in filtered_adata.var.index]"
   ]
  },
  {
   "cell_type": "code",
   "execution_count": 13,
   "id": "8e9c7a2e-197b-4c84-b862-b0dad5820931",
   "metadata": {},
   "outputs": [
    {
     "data": {
      "text/html": [
       "<div>\n",
       "<style scoped>\n",
       "    .dataframe tbody tr th:only-of-type {\n",
       "        vertical-align: middle;\n",
       "    }\n",
       "\n",
       "    .dataframe tbody tr th {\n",
       "        vertical-align: top;\n",
       "    }\n",
       "\n",
       "    .dataframe thead th {\n",
       "        text-align: right;\n",
       "    }\n",
       "</style>\n",
       "<table border=\"1\" class=\"dataframe\">\n",
       "  <thead>\n",
       "    <tr style=\"text-align: right;\">\n",
       "      <th></th>\n",
       "      <th>n_cells</th>\n",
       "    </tr>\n",
       "  </thead>\n",
       "  <tbody>\n",
       "    <tr>\n",
       "      <th>WASH7P</th>\n",
       "      <td>1902</td>\n",
       "    </tr>\n",
       "    <tr>\n",
       "      <th>RP11-34P13.3</th>\n",
       "      <td>34</td>\n",
       "    </tr>\n",
       "    <tr>\n",
       "      <th>RP11-34P13.7</th>\n",
       "      <td>410</td>\n",
       "    </tr>\n",
       "    <tr>\n",
       "      <th>CICP27</th>\n",
       "      <td>781</td>\n",
       "    </tr>\n",
       "    <tr>\n",
       "      <th>RP11-34P13.15</th>\n",
       "      <td>198</td>\n",
       "    </tr>\n",
       "  </tbody>\n",
       "</table>\n",
       "</div>"
      ],
      "text/plain": [
       "               n_cells\n",
       "WASH7P            1902\n",
       "RP11-34P13.3        34\n",
       "RP11-34P13.7       410\n",
       "CICP27             781\n",
       "RP11-34P13.15      198"
      ]
     },
     "execution_count": 13,
     "metadata": {},
     "output_type": "execute_result"
    }
   ],
   "source": [
    "filtered_adata.var.head()"
   ]
  },
  {
   "cell_type": "markdown",
   "id": "1e28d924",
   "metadata": {},
   "source": [
    "# 2. Use LIANA to Perform CCC Inference by Sample"
   ]
  },
  {
   "cell_type": "code",
   "execution_count": 14,
   "id": "c0ee4ffd-040f-4f3e-86e0-4d686177fd2c",
   "metadata": {},
   "outputs": [],
   "source": [
    "sample_key = 'sample'\n",
    "groupby = 'cluster'"
   ]
  },
  {
   "cell_type": "code",
   "execution_count": 15,
   "id": "7b39901e-55a8-4ed7-b370-4d91a5950456",
   "metadata": {},
   "outputs": [
    {
     "name": "stderr",
     "output_type": "stream",
     "text": [
      "Converting `sample` to categorical!\n",
      "Now running: 6033_BA9: 100%|██████████| 23/23 [09:46<00:00, 25.50s/it]     \n"
     ]
    }
   ],
   "source": [
    "li.mt.rank_aggregate.by_sample(\n",
    "    filtered_adata,\n",
    "    groupby=groupby,\n",
    "    resource_name='consensus', # NOTE: uses human gene symbols!\n",
    "    sample_key=sample_key, # sample key by which we which to loop\n",
    "    use_raw=False,\n",
    "    verbose=True, # use 'full' to show all verbose information\n",
    "    n_perms=None, # exclude permutations for speed\n",
    "    return_all_lrs=True, # return all LR values\n",
    "    )"
   ]
  },
  {
   "cell_type": "markdown",
   "id": "0fffa98c-bd9b-41bc-b856-157c146faa36",
   "metadata": {},
   "source": [
    "- Check LIANA results"
   ]
  },
  {
   "cell_type": "code",
   "execution_count": 17,
   "id": "9a97be06-7236-4379-a5e4-553e0e2be7d3",
   "metadata": {},
   "outputs": [
    {
     "data": {
      "text/html": [
       "<div>\n",
       "<style scoped>\n",
       "    .dataframe tbody tr th:only-of-type {\n",
       "        vertical-align: middle;\n",
       "    }\n",
       "\n",
       "    .dataframe tbody tr th {\n",
       "        vertical-align: top;\n",
       "    }\n",
       "\n",
       "    .dataframe thead th {\n",
       "        text-align: right;\n",
       "    }\n",
       "</style>\n",
       "<table border=\"1\" class=\"dataframe\">\n",
       "  <thead>\n",
       "    <tr style=\"text-align: right;\">\n",
       "      <th></th>\n",
       "      <th>sample</th>\n",
       "      <th>source</th>\n",
       "      <th>target</th>\n",
       "      <th>ligand_complex</th>\n",
       "      <th>receptor_complex</th>\n",
       "      <th>lr_means</th>\n",
       "      <th>expr_prod</th>\n",
       "      <th>scaled_weight</th>\n",
       "      <th>lr_logfc</th>\n",
       "      <th>spec_weight</th>\n",
       "      <th>lrscore</th>\n",
       "      <th>magnitude_rank</th>\n",
       "    </tr>\n",
       "  </thead>\n",
       "  <tbody>\n",
       "    <tr>\n",
       "      <th>3988778</th>\n",
       "      <td>5387_BA9</td>\n",
       "      <td>Oligodendrocytes</td>\n",
       "      <td>L4</td>\n",
       "      <td>IL1RAPL1</td>\n",
       "      <td>PTPRD</td>\n",
       "      <td>2.749131</td>\n",
       "      <td>7.532037</td>\n",
       "      <td>1.341422</td>\n",
       "      <td>1.574887</td>\n",
       "      <td>0.013149</td>\n",
       "      <td>0.985969</td>\n",
       "      <td>2.748508e-11</td>\n",
       "    </tr>\n",
       "    <tr>\n",
       "      <th>12063438</th>\n",
       "      <td>5841_BA9</td>\n",
       "      <td>Oligodendrocytes</td>\n",
       "      <td>L4</td>\n",
       "      <td>IL1RAPL1</td>\n",
       "      <td>PTPRD</td>\n",
       "      <td>2.885699</td>\n",
       "      <td>8.323357</td>\n",
       "      <td>1.310877</td>\n",
       "      <td>1.806469</td>\n",
       "      <td>0.013902</td>\n",
       "      <td>0.987183</td>\n",
       "      <td>2.772891e-11</td>\n",
       "    </tr>\n",
       "    <tr>\n",
       "      <th>6003686</th>\n",
       "      <td>5408_PFC_Nova</td>\n",
       "      <td>Oligodendrocytes</td>\n",
       "      <td>L4</td>\n",
       "      <td>IL1RAPL1</td>\n",
       "      <td>PTPRD</td>\n",
       "      <td>2.774165</td>\n",
       "      <td>7.693921</td>\n",
       "      <td>1.410131</td>\n",
       "      <td>1.828380</td>\n",
       "      <td>0.016184</td>\n",
       "      <td>0.985670</td>\n",
       "      <td>2.855456e-11</td>\n",
       "    </tr>\n",
       "    <tr>\n",
       "      <th>11025061</th>\n",
       "      <td>5577_BA9</td>\n",
       "      <td>Oligodendrocytes</td>\n",
       "      <td>L5/6</td>\n",
       "      <td>IL1RAPL1</td>\n",
       "      <td>PTPRD</td>\n",
       "      <td>2.958418</td>\n",
       "      <td>8.747614</td>\n",
       "      <td>1.299729</td>\n",
       "      <td>2.050153</td>\n",
       "      <td>0.015614</td>\n",
       "      <td>0.987234</td>\n",
       "      <td>2.861518e-11</td>\n",
       "    </tr>\n",
       "    <tr>\n",
       "      <th>0</th>\n",
       "      <td>4341_BA46</td>\n",
       "      <td>Oligodendrocytes</td>\n",
       "      <td>L5/6</td>\n",
       "      <td>IL1RAPL1</td>\n",
       "      <td>PTPRD</td>\n",
       "      <td>2.909284</td>\n",
       "      <td>8.453215</td>\n",
       "      <td>1.234929</td>\n",
       "      <td>1.877219</td>\n",
       "      <td>0.018843</td>\n",
       "      <td>0.986918</td>\n",
       "      <td>2.867882e-11</td>\n",
       "    </tr>\n",
       "    <tr>\n",
       "      <th>19066486</th>\n",
       "      <td>5958_BA9</td>\n",
       "      <td>Oligodendrocytes</td>\n",
       "      <td>L4</td>\n",
       "      <td>IL1RAPL1</td>\n",
       "      <td>PTPRD</td>\n",
       "      <td>2.847239</td>\n",
       "      <td>8.106462</td>\n",
       "      <td>1.261262</td>\n",
       "      <td>1.520966</td>\n",
       "      <td>0.015193</td>\n",
       "      <td>0.985540</td>\n",
       "      <td>2.874307e-11</td>\n",
       "    </tr>\n",
       "    <tr>\n",
       "      <th>8988767</th>\n",
       "      <td>5538_PFC_Nova</td>\n",
       "      <td>Oligodendrocytes</td>\n",
       "      <td>L5/6</td>\n",
       "      <td>IL1RAPL1</td>\n",
       "      <td>PTPRD</td>\n",
       "      <td>2.546762</td>\n",
       "      <td>6.485092</td>\n",
       "      <td>1.146841</td>\n",
       "      <td>1.639261</td>\n",
       "      <td>0.017277</td>\n",
       "      <td>0.984700</td>\n",
       "      <td>2.912201e-11</td>\n",
       "    </tr>\n",
       "    <tr>\n",
       "      <th>2965140</th>\n",
       "      <td>5294_BA9</td>\n",
       "      <td>Oligodendrocytes</td>\n",
       "      <td>L5/6</td>\n",
       "      <td>IL1RAPL1</td>\n",
       "      <td>PTPRD</td>\n",
       "      <td>2.939969</td>\n",
       "      <td>8.642257</td>\n",
       "      <td>1.423251</td>\n",
       "      <td>1.901086</td>\n",
       "      <td>0.016388</td>\n",
       "      <td>0.986878</td>\n",
       "      <td>2.925911e-11</td>\n",
       "    </tr>\n",
       "    <tr>\n",
       "      <th>7958771</th>\n",
       "      <td>5531_BA9</td>\n",
       "      <td>Oligodendrocytes</td>\n",
       "      <td>L4</td>\n",
       "      <td>IL1RAPL1</td>\n",
       "      <td>PTPRD</td>\n",
       "      <td>2.998587</td>\n",
       "      <td>8.989957</td>\n",
       "      <td>1.567351</td>\n",
       "      <td>1.936722</td>\n",
       "      <td>0.015964</td>\n",
       "      <td>0.986922</td>\n",
       "      <td>3.002469e-11</td>\n",
       "    </tr>\n",
       "    <tr>\n",
       "      <th>14121118</th>\n",
       "      <td>5879_PFC_Nova</td>\n",
       "      <td>Oligodendrocytes</td>\n",
       "      <td>L5/6</td>\n",
       "      <td>IL1RAPL1</td>\n",
       "      <td>PTPRD</td>\n",
       "      <td>2.683192</td>\n",
       "      <td>7.198975</td>\n",
       "      <td>1.341997</td>\n",
       "      <td>1.754207</td>\n",
       "      <td>0.017267</td>\n",
       "      <td>0.984811</td>\n",
       "      <td>3.040049e-11</td>\n",
       "    </tr>\n",
       "  </tbody>\n",
       "</table>\n",
       "</div>"
      ],
      "text/plain": [
       "                 sample            source target ligand_complex  \\\n",
       "3988778        5387_BA9  Oligodendrocytes     L4       IL1RAPL1   \n",
       "12063438       5841_BA9  Oligodendrocytes     L4       IL1RAPL1   \n",
       "6003686   5408_PFC_Nova  Oligodendrocytes     L4       IL1RAPL1   \n",
       "11025061       5577_BA9  Oligodendrocytes   L5/6       IL1RAPL1   \n",
       "0             4341_BA46  Oligodendrocytes   L5/6       IL1RAPL1   \n",
       "19066486       5958_BA9  Oligodendrocytes     L4       IL1RAPL1   \n",
       "8988767   5538_PFC_Nova  Oligodendrocytes   L5/6       IL1RAPL1   \n",
       "2965140        5294_BA9  Oligodendrocytes   L5/6       IL1RAPL1   \n",
       "7958771        5531_BA9  Oligodendrocytes     L4       IL1RAPL1   \n",
       "14121118  5879_PFC_Nova  Oligodendrocytes   L5/6       IL1RAPL1   \n",
       "\n",
       "         receptor_complex  lr_means  expr_prod  scaled_weight  lr_logfc  \\\n",
       "3988778             PTPRD  2.749131   7.532037       1.341422  1.574887   \n",
       "12063438            PTPRD  2.885699   8.323357       1.310877  1.806469   \n",
       "6003686             PTPRD  2.774165   7.693921       1.410131  1.828380   \n",
       "11025061            PTPRD  2.958418   8.747614       1.299729  2.050153   \n",
       "0                   PTPRD  2.909284   8.453215       1.234929  1.877219   \n",
       "19066486            PTPRD  2.847239   8.106462       1.261262  1.520966   \n",
       "8988767             PTPRD  2.546762   6.485092       1.146841  1.639261   \n",
       "2965140             PTPRD  2.939969   8.642257       1.423251  1.901086   \n",
       "7958771             PTPRD  2.998587   8.989957       1.567351  1.936722   \n",
       "14121118            PTPRD  2.683192   7.198975       1.341997  1.754207   \n",
       "\n",
       "          spec_weight   lrscore  magnitude_rank  \n",
       "3988778      0.013149  0.985969    2.748508e-11  \n",
       "12063438     0.013902  0.987183    2.772891e-11  \n",
       "6003686      0.016184  0.985670    2.855456e-11  \n",
       "11025061     0.015614  0.987234    2.861518e-11  \n",
       "0            0.018843  0.986918    2.867882e-11  \n",
       "19066486     0.015193  0.985540    2.874307e-11  \n",
       "8988767      0.017277  0.984700    2.912201e-11  \n",
       "2965140      0.016388  0.986878    2.925911e-11  \n",
       "7958771      0.015964  0.986922    3.002469e-11  \n",
       "14121118     0.017267  0.984811    3.040049e-11  "
      ]
     },
     "execution_count": 17,
     "metadata": {},
     "output_type": "execute_result"
    }
   ],
   "source": [
    "filtered_adata.uns[\"liana_res\"].sort_values(\"magnitude_rank\").head(10)"
   ]
  },
  {
   "cell_type": "markdown",
   "id": "629a44fa-1af3-458f-8fd0-3d964643c22b",
   "metadata": {},
   "source": [
    "- Check number of CCC events by sample"
   ]
  },
  {
   "cell_type": "code",
   "execution_count": 18,
   "id": "672a7faf-8cb7-40d3-ad87-e482a42aff45",
   "metadata": {},
   "outputs": [
    {
     "data": {
      "text/plain": [
       "sample\n",
       "5387_BA9         1076814\n",
       "5841_BA9         1060341\n",
       "4341_BA46        1052249\n",
       "5958_BA9         1043290\n",
       "5577_BA9         1038377\n",
       "5531_BA9         1029996\n",
       "5538_PFC_Nova    1028551\n",
       "5408_PFC_Nova    1024216\n",
       "5294_BA9         1023638\n",
       "5565_BA9         1007743\n",
       "5936_PFC_Nova    1004275\n",
       "5893_PFC         1001385\n",
       "5864_BA9          997339\n",
       "5879_PFC_Nova     995605\n",
       "5939_BA9          988669\n",
       "6033_BA9          983178\n",
       "5278_PFC          971907\n",
       "5945_PFC          955434\n",
       "5144_PFC          940984\n",
       "5403_PFC          938094\n",
       "5419_PFC          930869\n",
       "5976_BA9          683775\n",
       "5978_BA9          663300\n",
       "Name: count, dtype: int64"
      ]
     },
     "execution_count": 18,
     "metadata": {},
     "output_type": "execute_result"
    }
   ],
   "source": [
    "filtered_adata.uns[\"liana_res\"]['sample'].value_counts()"
   ]
  },
  {
   "cell_type": "markdown",
   "id": "85c6ed30-a000-41d0-b83c-f2092d199c86",
   "metadata": {},
   "source": [
    "- Save LIANA results"
   ]
  },
  {
   "cell_type": "code",
   "execution_count": 21,
   "id": "3b0bd016-eade-416e-9766-464e3a56b284",
   "metadata": {},
   "outputs": [],
   "source": [
    "out_dir = '/projects/compbio/users/rche384/APE/Data/RDA/ASD/raw'"
   ]
  },
  {
   "cell_type": "code",
   "execution_count": 22,
   "id": "7dd7ae13-ca3d-4990-a984-87ff1fb9d506",
   "metadata": {},
   "outputs": [
    {
     "name": "stderr",
     "output_type": "stream",
     "text": [
      "... storing 'cluster' as categorical\n",
      "... storing 'region' as categorical\n",
      "... storing 'sex' as categorical\n",
      "... storing 'diagnosis' as categorical\n",
      "... storing 'Capbatch' as categorical\n",
      "... storing 'Seqbatch' as categorical\n"
     ]
    }
   ],
   "source": [
    "filtered_adata.write_h5ad(out_dir + \"liana_res.h5ad\")"
   ]
  },
  {
   "cell_type": "markdown",
   "id": "ae9eae9c-0d1c-4df0-8678-7dcb6a8873a8",
   "metadata": {},
   "source": [
    "# 3. Build Tensor"
   ]
  },
  {
   "cell_type": "markdown",
   "id": "3ed70437-36a8-4758-927c-6179e87884ea",
   "metadata": {},
   "source": [
    "- Use expr_prod as the communication score function to construct tensor"
   ]
  },
  {
   "cell_type": "code",
   "execution_count": 26,
   "id": "6eb5a536",
   "metadata": {},
   "outputs": [
    {
     "data": {
      "text/plain": [
       "AnnData object with n_obs × n_vars = 62166 × 36745\n",
       "    obs: 'cluster', 'sample', 'individual', 'region', 'age', 'sex', 'diagnosis', 'Capbatch', 'Seqbatch', 'post-mortem interval (hours)', 'RNA Integrity Number', 'genes', 'UMIs', 'RNA mitochondr. percent', 'RNA ribosomal percent', 'n_genes'\n",
       "    var: 'n_cells'\n",
       "    uns: 'log1p', 'liana_res'"
      ]
     },
     "execution_count": 26,
     "metadata": {},
     "output_type": "execute_result"
    }
   ],
   "source": [
    "filtered_adata"
   ]
  },
  {
   "cell_type": "code",
   "execution_count": 27,
   "id": "3c0b7c66-b8b1-45ac-9d9c-8c4b5e7a66f7",
   "metadata": {},
   "outputs": [
    {
     "name": "stderr",
     "output_type": "stream",
     "text": [
      "100%|██████████| 23/23 [40:17<00:00, 105.09s/it]\n"
     ]
    }
   ],
   "source": [
    "tensor = li.multi.to_tensor_c2c(filtered_adata,\n",
    "                                sample_key=sample_key,\n",
    "                                score_key='expr_prod', # can be any score from liana\n",
    "                                how='outer_cells',\n",
    "                                outer_fraction=0.8)"
   ]
  },
  {
   "cell_type": "code",
   "execution_count": 28,
   "id": "f8a702d5-d907-4e4a-adae-c33a6ebace64",
   "metadata": {},
   "outputs": [
    {
     "data": {
      "text/plain": [
       "(23, 2555, 17, 17)"
      ]
     },
     "execution_count": 28,
     "metadata": {},
     "output_type": "execute_result"
    }
   ],
   "source": [
    "tensor.tensor.shape"
   ]
  },
  {
   "cell_type": "markdown",
   "id": "091f9258-1d3d-4638-a9d3-06a63bbafc42",
   "metadata": {},
   "source": [
    "- Save constructed tensor"
   ]
  },
  {
   "cell_type": "code",
   "execution_count": 29,
   "id": "9ce798d8-848e-4d7b-8d2c-f920b942c532",
   "metadata": {},
   "outputs": [],
   "source": [
    "import os\n",
    "out_path = '/projects/compbio/users/rche384/APE/Data/RDA/ASD/LIANA_expr_prod'\n",
    "if not os.path.exists(out_path):\n",
    "    os.makedirs(out_path)"
   ]
  },
  {
   "cell_type": "code",
   "execution_count": 30,
   "id": "7ad5a93d-5500-443c-87dc-5f5d5d69fda0",
   "metadata": {},
   "outputs": [],
   "source": [
    "from scipy.io import savemat\n",
    "mymat={'c2ctensor':tensor.tensor}\n",
    "savemat(out_path + \"/c2ctensor.mat\", mymat)"
   ]
  },
  {
   "cell_type": "markdown",
   "id": "6676170a-7a88-4da2-a008-9206bd710352",
   "metadata": {},
   "source": [
    "- Save dimension names (ligand-receptor pairs, sender cell types, receiver cell types)"
   ]
  },
  {
   "cell_type": "code",
   "execution_count": 32,
   "id": "66ff630e-6e2b-4007-a198-218461d2047e",
   "metadata": {},
   "outputs": [],
   "source": [
    "pd.DataFrame(tensor.order_names[1]).to_csv(out_path + '/lr.txt', \n",
    "                      mode='w',\n",
    "                      index=None,\n",
    "                      header=None,\n",
    "                      sep='\\t')\n",
    "\n",
    "pd.DataFrame(tensor.order_names[2]).to_csv(out_path + '/sender.txt', \n",
    "                      mode='w',\n",
    "                      index=None,\n",
    "                      header=None,\n",
    "                      sep='\\t')\n",
    "\n",
    "pd.DataFrame(tensor.order_names[3]).to_csv(out_path + '/receiver.txt', \n",
    "                      mode='w',\n",
    "                      index=None,\n",
    "                      header=None,\n",
    "                      sep='\\t')"
   ]
  },
  {
   "cell_type": "markdown",
   "id": "976a8858-944d-49d2-ad14-22622c2f4481",
   "metadata": {},
   "source": [
    "- Save individual-level information (e.g. disease status, age, gender) for subjects"
   ]
  },
  {
   "cell_type": "code",
   "execution_count": 33,
   "id": "d16758be-c256-4923-aef5-0c55cce3e4b9",
   "metadata": {},
   "outputs": [],
   "source": [
    "subjects = tensor.order_names[0]\n",
    "out_cols = ['sample', 'individual', 'age', 'sex', 'diagnosis', 'Seqbatch']\n",
    "subject_info = filtered_adata.obs[out_cols].drop_duplicates().reset_index(drop=True)\n",
    "\n",
    "\n",
    "# Step 1: Create a mapping from list values to order indices\n",
    "order_mapping = {value: index for index, value in enumerate(subjects)}\n",
    "# Step 2: Map the 'cov_ind' column to order indices\n",
    "subject_info['order'] = subject_info['sample'].map(order_mapping)\n",
    "# Step 3: Sort the DataFrame based on the 'order' column\n",
    "subject_info = subject_info.sort_values('order').drop(columns='order').reset_index(drop=True)\n",
    "\n"
   ]
  },
  {
   "cell_type": "code",
   "execution_count": 34,
   "id": "b8786d71-cf23-4755-8cc2-c5096aeb3fc9",
   "metadata": {},
   "outputs": [
    {
     "data": {
      "text/html": [
       "<div>\n",
       "<style scoped>\n",
       "    .dataframe tbody tr th:only-of-type {\n",
       "        vertical-align: middle;\n",
       "    }\n",
       "\n",
       "    .dataframe tbody tr th {\n",
       "        vertical-align: top;\n",
       "    }\n",
       "\n",
       "    .dataframe thead th {\n",
       "        text-align: right;\n",
       "    }\n",
       "</style>\n",
       "<table border=\"1\" class=\"dataframe\">\n",
       "  <thead>\n",
       "    <tr style=\"text-align: right;\">\n",
       "      <th></th>\n",
       "      <th>sample</th>\n",
       "      <th>individual</th>\n",
       "      <th>age</th>\n",
       "      <th>sex</th>\n",
       "      <th>diagnosis</th>\n",
       "      <th>Seqbatch</th>\n",
       "    </tr>\n",
       "  </thead>\n",
       "  <tbody>\n",
       "    <tr>\n",
       "      <th>0</th>\n",
       "      <td>4341_BA46</td>\n",
       "      <td>4341</td>\n",
       "      <td>13</td>\n",
       "      <td>M</td>\n",
       "      <td>Control</td>\n",
       "      <td>SB2</td>\n",
       "    </tr>\n",
       "    <tr>\n",
       "      <th>1</th>\n",
       "      <td>5144_PFC</td>\n",
       "      <td>5144</td>\n",
       "      <td>7</td>\n",
       "      <td>M</td>\n",
       "      <td>ASD</td>\n",
       "      <td>SB1</td>\n",
       "    </tr>\n",
       "    <tr>\n",
       "      <th>2</th>\n",
       "      <td>5278_PFC</td>\n",
       "      <td>5278</td>\n",
       "      <td>15</td>\n",
       "      <td>F</td>\n",
       "      <td>ASD</td>\n",
       "      <td>SB1</td>\n",
       "    </tr>\n",
       "    <tr>\n",
       "      <th>3</th>\n",
       "      <td>5294_BA9</td>\n",
       "      <td>5294</td>\n",
       "      <td>19</td>\n",
       "      <td>M</td>\n",
       "      <td>ASD</td>\n",
       "      <td>SB2</td>\n",
       "    </tr>\n",
       "    <tr>\n",
       "      <th>4</th>\n",
       "      <td>5387_BA9</td>\n",
       "      <td>5387</td>\n",
       "      <td>12</td>\n",
       "      <td>M</td>\n",
       "      <td>Control</td>\n",
       "      <td>SB2</td>\n",
       "    </tr>\n",
       "    <tr>\n",
       "      <th>5</th>\n",
       "      <td>5403_PFC</td>\n",
       "      <td>5403</td>\n",
       "      <td>16</td>\n",
       "      <td>M</td>\n",
       "      <td>ASD</td>\n",
       "      <td>SB1</td>\n",
       "    </tr>\n",
       "    <tr>\n",
       "      <th>6</th>\n",
       "      <td>5408_PFC_Nova</td>\n",
       "      <td>5408</td>\n",
       "      <td>6</td>\n",
       "      <td>M</td>\n",
       "      <td>Control</td>\n",
       "      <td>SB1</td>\n",
       "    </tr>\n",
       "    <tr>\n",
       "      <th>7</th>\n",
       "      <td>5419_PFC</td>\n",
       "      <td>5419</td>\n",
       "      <td>19</td>\n",
       "      <td>F</td>\n",
       "      <td>ASD</td>\n",
       "      <td>SB1</td>\n",
       "    </tr>\n",
       "    <tr>\n",
       "      <th>8</th>\n",
       "      <td>5531_BA9</td>\n",
       "      <td>5531</td>\n",
       "      <td>15</td>\n",
       "      <td>M</td>\n",
       "      <td>ASD</td>\n",
       "      <td>SB2</td>\n",
       "    </tr>\n",
       "    <tr>\n",
       "      <th>9</th>\n",
       "      <td>5538_PFC_Nova</td>\n",
       "      <td>5538</td>\n",
       "      <td>19</td>\n",
       "      <td>F</td>\n",
       "      <td>Control</td>\n",
       "      <td>SB1</td>\n",
       "    </tr>\n",
       "    <tr>\n",
       "      <th>10</th>\n",
       "      <td>5565_BA9</td>\n",
       "      <td>5565</td>\n",
       "      <td>12</td>\n",
       "      <td>M</td>\n",
       "      <td>ASD</td>\n",
       "      <td>SB2</td>\n",
       "    </tr>\n",
       "    <tr>\n",
       "      <th>11</th>\n",
       "      <td>5577_BA9</td>\n",
       "      <td>5577</td>\n",
       "      <td>21</td>\n",
       "      <td>M</td>\n",
       "      <td>Control</td>\n",
       "      <td>SB2</td>\n",
       "    </tr>\n",
       "    <tr>\n",
       "      <th>12</th>\n",
       "      <td>5841_BA9</td>\n",
       "      <td>5841</td>\n",
       "      <td>12</td>\n",
       "      <td>M</td>\n",
       "      <td>ASD</td>\n",
       "      <td>SB2</td>\n",
       "    </tr>\n",
       "    <tr>\n",
       "      <th>13</th>\n",
       "      <td>5864_BA9</td>\n",
       "      <td>5864</td>\n",
       "      <td>20</td>\n",
       "      <td>M</td>\n",
       "      <td>ASD</td>\n",
       "      <td>SB2</td>\n",
       "    </tr>\n",
       "    <tr>\n",
       "      <th>14</th>\n",
       "      <td>5879_PFC_Nova</td>\n",
       "      <td>5879</td>\n",
       "      <td>15</td>\n",
       "      <td>M</td>\n",
       "      <td>Control</td>\n",
       "      <td>SB1</td>\n",
       "    </tr>\n",
       "    <tr>\n",
       "      <th>15</th>\n",
       "      <td>5893_PFC</td>\n",
       "      <td>5893</td>\n",
       "      <td>19</td>\n",
       "      <td>M</td>\n",
       "      <td>Control</td>\n",
       "      <td>SB1</td>\n",
       "    </tr>\n",
       "    <tr>\n",
       "      <th>16</th>\n",
       "      <td>5936_PFC_Nova</td>\n",
       "      <td>5936</td>\n",
       "      <td>14</td>\n",
       "      <td>F</td>\n",
       "      <td>Control</td>\n",
       "      <td>SB1</td>\n",
       "    </tr>\n",
       "    <tr>\n",
       "      <th>17</th>\n",
       "      <td>5939_BA9</td>\n",
       "      <td>5939</td>\n",
       "      <td>21</td>\n",
       "      <td>M</td>\n",
       "      <td>ASD</td>\n",
       "      <td>SB2</td>\n",
       "    </tr>\n",
       "    <tr>\n",
       "      <th>18</th>\n",
       "      <td>5945_PFC</td>\n",
       "      <td>5945</td>\n",
       "      <td>20</td>\n",
       "      <td>M</td>\n",
       "      <td>ASD</td>\n",
       "      <td>SB1</td>\n",
       "    </tr>\n",
       "    <tr>\n",
       "      <th>19</th>\n",
       "      <td>5958_BA9</td>\n",
       "      <td>5958</td>\n",
       "      <td>22</td>\n",
       "      <td>M</td>\n",
       "      <td>Control</td>\n",
       "      <td>SB2</td>\n",
       "    </tr>\n",
       "    <tr>\n",
       "      <th>20</th>\n",
       "      <td>5976_BA9</td>\n",
       "      <td>5976</td>\n",
       "      <td>4</td>\n",
       "      <td>F</td>\n",
       "      <td>Control</td>\n",
       "      <td>SB2</td>\n",
       "    </tr>\n",
       "    <tr>\n",
       "      <th>21</th>\n",
       "      <td>5978_BA9</td>\n",
       "      <td>5978</td>\n",
       "      <td>11</td>\n",
       "      <td>M</td>\n",
       "      <td>ASD</td>\n",
       "      <td>SB2</td>\n",
       "    </tr>\n",
       "    <tr>\n",
       "      <th>22</th>\n",
       "      <td>6033_BA9</td>\n",
       "      <td>6033</td>\n",
       "      <td>14</td>\n",
       "      <td>F</td>\n",
       "      <td>ASD</td>\n",
       "      <td>SB2</td>\n",
       "    </tr>\n",
       "  </tbody>\n",
       "</table>\n",
       "</div>"
      ],
      "text/plain": [
       "           sample  individual  age sex diagnosis Seqbatch\n",
       "0       4341_BA46        4341   13   M   Control      SB2\n",
       "1        5144_PFC        5144    7   M       ASD      SB1\n",
       "2        5278_PFC        5278   15   F       ASD      SB1\n",
       "3        5294_BA9        5294   19   M       ASD      SB2\n",
       "4        5387_BA9        5387   12   M   Control      SB2\n",
       "5        5403_PFC        5403   16   M       ASD      SB1\n",
       "6   5408_PFC_Nova        5408    6   M   Control      SB1\n",
       "7        5419_PFC        5419   19   F       ASD      SB1\n",
       "8        5531_BA9        5531   15   M       ASD      SB2\n",
       "9   5538_PFC_Nova        5538   19   F   Control      SB1\n",
       "10       5565_BA9        5565   12   M       ASD      SB2\n",
       "11       5577_BA9        5577   21   M   Control      SB2\n",
       "12       5841_BA9        5841   12   M       ASD      SB2\n",
       "13       5864_BA9        5864   20   M       ASD      SB2\n",
       "14  5879_PFC_Nova        5879   15   M   Control      SB1\n",
       "15       5893_PFC        5893   19   M   Control      SB1\n",
       "16  5936_PFC_Nova        5936   14   F   Control      SB1\n",
       "17       5939_BA9        5939   21   M       ASD      SB2\n",
       "18       5945_PFC        5945   20   M       ASD      SB1\n",
       "19       5958_BA9        5958   22   M   Control      SB2\n",
       "20       5976_BA9        5976    4   F   Control      SB2\n",
       "21       5978_BA9        5978   11   M       ASD      SB2\n",
       "22       6033_BA9        6033   14   F       ASD      SB2"
      ]
     },
     "execution_count": 34,
     "metadata": {},
     "output_type": "execute_result"
    }
   ],
   "source": [
    "subject_info"
   ]
  },
  {
   "cell_type": "code",
   "execution_count": 35,
   "id": "d8d89cd0-5e26-4dc5-8357-1611479654ba",
   "metadata": {},
   "outputs": [],
   "source": [
    "subject_info.to_csv(out_path + '/subjects_info.txt', \n",
    "                    mode='w',\n",
    "                    index=None,\n",
    "                    header=True,\n",
    "                    sep='\\t')"
   ]
  },
  {
   "cell_type": "code",
   "execution_count": null,
   "id": "685638e0",
   "metadata": {},
   "outputs": [],
   "source": []
  },
  {
   "cell_type": "code",
   "execution_count": null,
   "id": "25d6e0de",
   "metadata": {},
   "outputs": [],
   "source": []
  }
 ],
 "metadata": {
  "kernelspec": {
   "display_name": "APE_venv",
   "language": "python",
   "name": "python3"
  },
  "language_info": {
   "codemirror_mode": {
    "name": "ipython",
    "version": 3
   },
   "file_extension": ".py",
   "mimetype": "text/x-python",
   "name": "python",
   "nbconvert_exporter": "python",
   "pygments_lexer": "ipython3",
   "version": "3.11.3"
  }
 },
 "nbformat": 4,
 "nbformat_minor": 5
}
